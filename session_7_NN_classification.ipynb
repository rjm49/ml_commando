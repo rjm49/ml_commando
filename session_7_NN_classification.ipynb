{
 "cells": [
  {
   "cell_type": "markdown",
   "metadata": {},
   "source": [
    "# Cambridge M/L Commando Course\n",
    "## Titanic: Neural Networks (with Keras)\n",
    "\n",
    "We revisit our well-known Titanic data again, this time using Keras with Tensorflow to build Neural Network classifiers, for survival prediction (binary classification) and to estimate the class of a passenger (multiclass classification)."
   ]
  },
  {
   "cell_type": "code",
   "execution_count": null,
   "metadata": {},
   "outputs": [],
   "source": [
    "from math import exp\n",
    "from random import random, shuffle, choice, randint\n",
    "import pandas as pd\n",
    "import numpy as np\n",
    "\n",
    "from keras import Input\n",
    "from numpy import array, mean\n",
    "from pandas import concat\n",
    "from pandas import DataFrame\n",
    "from keras.models import Sequential\n",
    "from keras.layers import Dense,Reshape\n",
    "\n",
    "import matplotlib.pyplot as plt"
   ]
  },
  {
   "cell_type": "code",
   "execution_count": null,
   "metadata": {},
   "outputs": [],
   "source": [
    "from sklearn.preprocessing import LabelEncoder\n",
    "from sklearn.model_selection import train_test_split\n",
    "df = pd.read_csv(\"./data/titanic.csv\")\n",
    "print(df[0:10])\n",
    "\n",
    "df = df[[\"pclass\",\"age\",\"sex\",\"survived\",\"embarked\"]]\n",
    "\n",
    "mean_age = np.mean(df[\"age\"])\n",
    "df[\"age\"] = df[\"age\"].fillna(mean_age)\n",
    "\n",
    "mf_enc = LabelEncoder()\n",
    "df[\"sex\"] = mf_enc.fit_transform(df[\"sex\"])\n",
    "\n",
    "class_enc = LabelEncoder()\n",
    "df[\"pclass\"] = class_enc.fit_transform(df[\"pclass\"])\n",
    "print(\"\\nCLEANED UP DATA----\\n\",df[0:10])\n",
    "\n",
    "embark_enc = LabelEncoder()\n",
    "df[\"embarked\"] = embark_enc.fit_transform(df[\"embarked\"])\n",
    "print(\"\\nCLEANED UP DATA----\\n\",df[0:10])\n",
    "\n",
    "\n",
    "titanic_X = df[[\"pclass\",\"age\",\"sex\",\"embarked\"]]\n",
    "titanic_y = df[\"survived\"]\n",
    "\n",
    "print(titanic_X.head())\n",
    "X_train, X_test, y_train, y_test = train_test_split(titanic_X, titanic_y, test_size=0.25, random_state=42)\n"
   ]
  },
  {
   "cell_type": "code",
   "execution_count": null,
   "metadata": {},
   "outputs": [],
   "source": [
    "from sklearn import metrics\n",
    "def measure_performance(X,y,clf, show_accuracy=True, show_classification_report=True, show_confusion_matrix=True):\n",
    "    y_pred=clf.predict(X)\n",
    "    \n",
    "    print(\"First ten outputs\")\n",
    "    print(y_pred[0:10])\n",
    "    \n",
    "    if len(y_pred.shape)>1 and y_pred.shape[1]>1:\n",
    "        y_pred = np.argmax(y_pred, axis=1)\n",
    "    else:\n",
    "        y_pred = np.round(y_pred)\n",
    "    \n",
    "    if show_accuracy:\n",
    "        print( \"Accuracy:{0:.3f}\".format(metrics.accuracy_score(y,y_pred)),\"\\n\")\n",
    "\n",
    "    if show_classification_report:\n",
    "        print( \"Classification report\")\n",
    "        print( metrics.classification_report(y,y_pred),\"\\n\")\n",
    "        \n",
    "    if show_confusion_matrix:\n",
    "        print( \"Confusion matrix\")\n",
    "        print( metrics.confusion_matrix(y,y_pred),\"\\n\")"
   ]
  },
  {
   "cell_type": "code",
   "execution_count": null,
   "metadata": {
    "scrolled": true
   },
   "outputs": [],
   "source": [
    "from keras.models import Sequential\n",
    "from keras.layers import Dense, Activation, Dropout\n",
    "from keras.optimizers import Adam\n",
    "\n",
    "survival_model = Sequential([\n",
    "    Dense(5, input_shape=(4,)),\n",
    "    Activation('relu'),\n",
    "    Dense(5),\n",
    "    Activation('relu'),\n",
    "    Dense(1),\n",
    "    Activation('sigmoid'),\n",
    "])\n",
    "\n",
    "survival_model.summary()\n",
    "survival_model = model\n",
    "\n",
    "survival_model.compile(loss=\"binary_crossentropy\", optimizer=\"adam\", metrics=[\"acc\", \"mse\"])\n",
    "survival_model.fit(X_train, y_train, epochs=100)"
   ]
  },
  {
   "cell_type": "code",
   "execution_count": null,
   "metadata": {},
   "outputs": [],
   "source": [
    "print(\"Scores are binary_crossentropy (i.e. loss), accuracy and MSE\")\n",
    "score = survival_model.evaluate(X_train, y_train)\n",
    "print(\"train score: {}\".format(score))\n",
    "score = survival_model.evaluate(X_test, y_test)\n",
    "print(\"test score: {}\".format(score))"
   ]
  },
  {
   "cell_type": "code",
   "execution_count": null,
   "metadata": {},
   "outputs": [],
   "source": [
    "measure_performance(X_train, y_train, survival_model, show_accuracy=True)\n",
    "measure_performance(X_test, y_test, survival_model, show_accuracy=True)"
   ]
  },
  {
   "cell_type": "code",
   "execution_count": null,
   "metadata": {},
   "outputs": [],
   "source": [
    "from sklearn.neural_network import MLPClassifier\n",
    "mlp_clf = MLPClassifier(hidden_layer_sizes=(5,5,), max_iter=1000, solver=\"adam\")\n",
    "mlp_clf.fit(X_train, y_train)\n",
    "\n",
    "print(\"Scikit Learn's MLPClassifier:\")\n",
    "print(\"Scores are binary_crossentropy (i.e. loss), accuracy and MSE\")\n",
    "score = survival_model.evaluate(X_train, y_train)\n",
    "print(\"train score: {}\".format(score))\n",
    "score = survival_model.evaluate(X_test, y_test)\n",
    "print(\"test score: {}\".format(score))\n",
    "\n",
    "measure_performance(X_train, y_train, mlp_clf, show_accuracy=True)\n",
    "measure_performance(X_test, y_test, mlp_clf, show_accuracy=True)"
   ]
  },
  {
   "cell_type": "markdown",
   "metadata": {},
   "source": [
    "## Multiclass classification\n",
    "Next we take a look at a classification problem where the result is always exactly one of N classes.  This is called a multi-class problem.\n",
    "(Do not confuse with a _multi-label_ problem, where we can have any number of labels (or none!) positive for a given datum.)\n",
    "\n",
    "In our case we'll try to use the passenger's age, gender and embarkation point to determine the likely class of their ticket."
   ]
  },
  {
   "cell_type": "code",
   "execution_count": null,
   "metadata": {},
   "outputs": [],
   "source": [
    "class_model = Sequential([\n",
    "    Dense(5, input_shape=(4,)),\n",
    "    Activation('relu'),\n",
    "    Dense(3),\n",
    "    Activation('softmax'),\n",
    "])\n",
    "\n",
    "titanic_class_target = df[[\"pclass\"]]\n",
    "titanic_classless_data = df.drop([\"pclass\"], axis=1)\n",
    "\n",
    "X_train, X_test, y_train, y_test = train_test_split(titanic_classless_data, titanic_class_target, test_size=0.25, random_state=42)\n",
    "\n",
    "print(X_train.head())\n",
    "\n",
    "class_model.compile(loss=\"sparse_categorical_crossentropy\", optimizer=\"adam\", metrics=[\"acc\"])\n",
    "history = class_model.fit(X_train, y_train, epochs=100)\n",
    "\n",
    "plt.plot(history.history['loss'], label=\"loss\")\n",
    "plt.plot(history.history['acc'], label=\"acc\")\n",
    "plt.legend()\n",
    "plt.show()"
   ]
  },
  {
   "cell_type": "code",
   "execution_count": null,
   "metadata": {},
   "outputs": [],
   "source": [
    "score = class_model.evaluate(X_train, y_train)\n",
    "print(\"train score: {}\".format(score))\n",
    "score = class_model.evaluate(X_test, y_test)\n",
    "print(\"test score: {}\".format(score))\n",
    "\n",
    "measure_performance(X_test, y_test, class_model, show_accuracy=True)"
   ]
  },
  {
   "cell_type": "code",
   "execution_count": null,
   "metadata": {},
   "outputs": [],
   "source": [
    "y_pred=class_model.predict(X_test)\n",
    "print(\"Raw softmax (rows should sum to 1):\\n\",y_pred[0:10])\n",
    "print(\"Row sums:\", np.sum(y_pred[0:10], axis=1))\n",
    "\n",
    "y_args = np.argmax(y_pred, axis=1)\n",
    "print(\"\\nIndices of maxima:\\n\", y_args[0:10])"
   ]
  }
 ],
 "metadata": {
  "kernelspec": {
   "display_name": "Python 3",
   "language": "python",
   "name": "python3"
  },
  "language_info": {
   "codemirror_mode": {
    "name": "ipython",
    "version": 3
   },
   "file_extension": ".py",
   "mimetype": "text/x-python",
   "name": "python",
   "nbconvert_exporter": "python",
   "pygments_lexer": "ipython3",
   "version": "3.7.3"
  }
 },
 "nbformat": 4,
 "nbformat_minor": 2
}
