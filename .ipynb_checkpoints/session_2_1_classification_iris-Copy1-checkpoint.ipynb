{
 "cells": [
  {
   "cell_type": "markdown",
   "metadata": {},
   "source": [
    "# Cambridge ML Commando Course\n",
    "## Session 2.1 - Classification with Logistic Regression"
   ]
  },
  {
   "cell_type": "code",
   "execution_count": 1,
   "metadata": {},
   "outputs": [
    {
     "name": "stdout",
     "output_type": "stream",
     "text": [
      "Populating the interactive namespace from numpy and matplotlib\n",
      "Python version: 3.7.3\n",
      "IPython version: 7.4.0\n",
      "numpy version: 1.16.2\n",
      "scikit-learn version: 0.20.3\n",
      "matplotlib version: 3.0.3\n"
     ]
    }
   ],
   "source": [
    "%pylab inline\n",
    "import numpy as np\n",
    "import scipy as sp\n",
    "import matplotlib.pyplot as plt\n",
    "import sklearn\n",
    "import IPython\n",
    "import platform\n",
    "from sklearn import preprocessing\n",
    "# print ('Python version:', platform.python_version())\n",
    "# print ('IPython version:', IPython.__version__)\n",
    "# print ('numpy version:', np.__version__)\n",
    "# print ('scikit-learn version:', sklearn.__version__)\n",
    "# print ('matplotlib version:', matplotlib.__version__)"
   ]
  },
  {
   "cell_type": "code",
   "execution_count": 29,
   "metadata": {},
   "outputs": [
    {
     "name": "stdout",
     "output_type": "stream",
     "text": [
      "[0 0 0 0 0 0 0 0 0 0 0 0 0 0 0 0 0 0 0 0 0 0 0 0 0 0 0 0 0 0 0 0 0 0 0 0 0\n",
      " 0 0 0 0 0 0 0 0 0 0 0 0 0 1 1 1 1 1 1 1 1 1 1 1 1 1 1 1 1 1 1 1 1 1 1 1 1\n",
      " 1 1 1 1 1 1 1 1 1 1 1 1 1 1 1 1 1 1 1 1 1 1 1 1 1 1 2 2 2 2 2 2 2 2 2 2 2\n",
      " 2 2 2 2 2 2 2 2 2 2 2 2 2 2 2 2 2 2 2 2 2 2 2 2 2 2 2 2 2 2 2 2 2 2 2 2 2\n",
      " 2 2]\n",
      "['setosa' 'versicolor' 'virginica']\n"
     ]
    }
   ],
   "source": [
    "from sklearn import datasets\n",
    "iris = datasets.load_iris()\n",
    "\n",
    "print(iris.target)\n",
    "print(iris.target_names)\n",
    "\n",
    "# print(\"Data shape={}, type={}, labels={}\\n\".format(X_iris.shape, type(X_iris), iris.feature_names))\n",
    "# print(\"Target shape={}, type={}, labels={}\".format(y_iris.shape, type(y_iris), y_labels))"
   ]
  },
  {
   "cell_type": "code",
   "execution_count": 30,
   "metadata": {},
   "outputs": [
    {
     "name": "stdout",
     "output_type": "stream",
     "text": [
      "(111, 2)\n"
     ]
    },
    {
     "data": {
      "image/png": "[encoded data removed]",
      "text/plain": [
       "<Figure size 432x288 with 1 Axes>"
      ]
     },
     "metadata": {
      "needs_background": "light"
     },
     "output_type": "display_data"
    }
   ],
   "source": [
    "from sklearn.preprocessing import StandardScaler\n",
    "manual_split=True\n",
    "remove_setosa = False\n",
    "\n",
    "if remove_setosa:\n",
    "    indices_no_setosa = (iris.target != 0) #[TRUE for non-setosa else FALSE]\n",
    "    X = iris.data[indices_no_setosa]\n",
    "    y = iris.target[indices_no_setosa]\n",
    "else:\n",
    "    X = iris.data\n",
    "    y = iris.target\n",
    "    \n",
    "if manual_split:\n",
    "    numpy.random.seed(42)\n",
    "    test_split = 0.33\n",
    "    test_n = int(test_split*len(X))\n",
    "    test_indices = numpy.random.randint(0,len(X), size=test_n)\n",
    "    train_indices = list(set(range(len(X))) - set(test_indices))\n",
    "\n",
    "    X_train  = X[:,[2,3]][train_indices]    \n",
    "    y_train = y[train_indices]\n",
    "    X_test = X[:,[2,3]][test_indices] \n",
    "    y_test = y[test_indices]\n",
    "else:\n",
    "    # convenience class to do the above...\n",
    "    from sklearn.model_selection import train_test_split\n",
    "    X_train, X_test, y_train, y_test = train_test_split(X[:,[2,3]], y, test_size=0.33, random_state=666)\n",
    "    \n",
    "print(X_train.shape)\n",
    "X_scaler = StandardScaler()\n",
    "X_train = X_scaler.fit_transform(X_train)\n",
    "X_test = X_scaler.transform(X_test)\n",
    "\n",
    "ax = plt.gca()\n",
    "ax.scatter(X_train[:,0], X_train[:,1], c=y_train, alpha=0.7, cmap=plt.cm.Paired)\n",
    "ax.scatter(X_test[:,0], X_test[:,1], marker=\"s\", s=50, c=y_test, edgecolor=\"k\", cmap=plt.cm.Paired) #it's sneaky to look at your test data!\n",
    "# plt.legend()\n",
    "plt.xlabel('Petal length')\n",
    "plt.ylabel('Petal width')\n",
    "plt.show()"
   ]
  },
  {
   "cell_type": "code",
   "execution_count": 31,
   "metadata": {},
   "outputs": [],
   "source": [
    "from sklearn.model_selection import cross_val_score, KFold\n",
    "from scipy.stats import sem\n",
    "\n",
    "def evaluate_cross_validation(estr, X, y, K):\n",
    "    # create a k-fold croos validation iterator of k=5 folds\n",
    "    print(\"underway...\")\n",
    "    k_cv = KFold(n_splits=K, shuffle=True, random_state=0)\n",
    "    # by default the score used is the one returned by score method of the estimator (accuracy)\n",
    "    scores = cross_val_score(estr, X, y, cv=k_cv)\n",
    "    print (scores)\n",
    "    print ((\"Mean score: {0:.3f} (+/-{1:.3f})\").format(\n",
    "        np.mean(scores), sem(scores)))"
   ]
  },
  {
   "cell_type": "code",
   "execution_count": 32,
   "metadata": {},
   "outputs": [
    {
     "name": "stderr",
     "output_type": "stream",
     "text": [
      "/home/rjm49/anaconda3/envs/mlc/lib/python3.7/site-packages/sklearn/linear_model/logistic.py:433: FutureWarning: Default solver will be changed to 'lbfgs' in 0.22. Specify a solver to silence this warning.\n",
      "  FutureWarning)\n",
      "/home/rjm49/anaconda3/envs/mlc/lib/python3.7/site-packages/sklearn/linear_model/logistic.py:460: FutureWarning: Default multi_class will be changed to 'auto' in 0.22. Specify the multi_class option to silence this warning.\n",
      "  \"this warning.\", FutureWarning)\n"
     ]
    },
    {
     "data": {
      "text/plain": [
       "LogisticRegression(C=1.0, class_weight=None, dual=False, fit_intercept=True,\n",
       "          intercept_scaling=1, max_iter=100, multi_class='warn',\n",
       "          n_jobs=None, penalty='l2', random_state=None, solver='warn',\n",
       "          tol=0.0001, verbose=0, warm_start=False)"
      ]
     },
     "execution_count": 32,
     "metadata": {},
     "output_type": "execute_result"
    }
   ],
   "source": [
    "from sklearn.linear_model import LogisticRegression\n",
    "reg = LogisticRegression() # solver=\"lbfgs\", multi_class=\"multinomial\")\n",
    "# from sklearn import svm\n",
    "# reg = svm.SVC(kernel=\"poly\")\n",
    "reg.fit(X_train, y_train)"
   ]
  },
  {
   "cell_type": "code",
   "execution_count": 33,
   "metadata": {
    "scrolled": true
   },
   "outputs": [
    {
     "name": "stdout",
     "output_type": "stream",
     "text": [
      "underway...\n",
      "[0.86956522 0.90909091 0.86363636 0.90909091 0.77272727]\n",
      "Mean score: 0.865 (+/-0.025)\n",
      "y yh[class probabilities]:\n",
      "0 0 [8.17960177e-01 1.81399216e-01 6.40607123e-04]\n",
      "0 0 [8.28426488e-01 1.70980673e-01 5.92839063e-04]\n",
      "0 0 [8.07119873e-01 1.92187996e-01 6.92130904e-04]\n",
      "0 0 [8.17960177e-01 1.81399216e-01 6.40607123e-04]\n",
      "0 0 [0.81703137 0.18139238 0.00157625]\n",
      "0 0 [0.83413945 0.16497053 0.00089002]\n",
      "0 0 [7.89809099e-01 2.09693464e-01 4.97437065e-04]\n",
      "0 0 [8.07119873e-01 1.92187996e-01 6.92130904e-04]\n",
      "0 0 [7.95915449e-01 2.03336814e-01 7.47737098e-04]\n",
      "0 0 [8.00870477e-01 1.98668483e-01 4.61039590e-04]\n",
      "0 0 [0.83903015 0.15962911 0.00134074]\n",
      "0 0 [0.85895505 0.13990427 0.00114068]\n",
      "0 0 [0.80115365 0.19771846 0.00112788]\n",
      "0 0 [0.8235881  0.17544875 0.00096315]\n",
      "0 0 [8.57501746e-01 1.42028966e-01 4.69287456e-04]\n",
      "0 0 [0.83178244 0.1660119  0.00220566]\n",
      "0 0 [0.76022379 0.23883326 0.00094295]\n",
      "0 0 [7.95915449e-01 2.03336814e-01 7.47737098e-04]\n",
      "0 0 [0.82829599 0.17025036 0.00145365]\n",
      "0 0 [8.07119873e-01 1.92187996e-01 6.92130904e-04]\n",
      "0 0 [8.17960177e-01 1.81399216e-01 6.40607123e-04]\n",
      "0 0 [7.95915449e-01 2.03336814e-01 7.47737098e-04]\n",
      "0 0 [7.95915449e-01 2.03336814e-01 7.47737098e-04]\n",
      "0 0 [0.83903015 0.15962911 0.00134074]\n",
      "0 0 [7.89809099e-01 2.09693464e-01 4.97437065e-04]\n",
      "0 0 [8.17960177e-01 1.81399216e-01 6.40607123e-04]\n",
      "0 0 [8.07119873e-01 1.92187996e-01 6.92130904e-04]\n",
      "0 0 [8.38510069e-01 1.60941397e-01 5.48534220e-04]\n",
      "0 0 [8.28426488e-01 1.70980673e-01 5.92839063e-04]\n",
      "0 0 [8.28426488e-01 1.70980673e-01 5.92839063e-04]\n",
      "0 0 [8.07119873e-01 1.92187996e-01 6.92130904e-04]\n",
      "0 0 [8.4424727e-01 1.5493035e-01 8.2237978e-04]\n",
      "0 0 [8.4424727e-01 1.5493035e-01 8.2237978e-04]\n",
      "0 0 [8.28426488e-01 1.70980673e-01 5.92839063e-04]\n",
      "0 0 [0.85605523 0.14110782 0.00283694]\n",
      "0 0 [0.79286126 0.20528427 0.00185448]\n",
      "0 0 [0.83413945 0.16497053 0.00089002]\n",
      "0 0 [7.95915449e-01 2.03336814e-01 7.47737098e-04]\n",
      "0 0 [8.17960177e-01 1.81399216e-01 6.40607123e-04]\n",
      "0 0 [8.17960177e-01 1.81399216e-01 6.40607123e-04]\n",
      "1 2 [0.04216556 0.47194008 0.48589436]\n",
      "1 1 [0.15167808 0.55947845 0.28884347]\n",
      "1 1 [0.06791319 0.59862442 0.33346239]\n",
      "1 2 [0.02306843 0.41712249 0.55980908]\n",
      "1 1 [0.40896253 0.51337027 0.0776672 ]\n",
      "1 2 [0.07060572 0.4575997  0.47179458]\n",
      "1 1 [0.23764935 0.64948701 0.11286364]\n",
      "1 1 [0.26862514 0.49060304 0.24077183]\n",
      "1 1 [0.06393789 0.5330114  0.40305071]\n",
      "1 2 [0.04216556 0.47194008 0.48589436]\n",
      "1 1 [0.20948923 0.67029064 0.12022012]\n",
      "1 2 [0.04216556 0.47194008 0.48589436]\n",
      "1 1 [0.23864559 0.61182395 0.14953045]\n",
      "1 2 [0.01159217 0.31795833 0.6704495 ]\n",
      "1 1 [0.06079791 0.65996026 0.27924184]\n",
      "1 1 [0.06393789 0.5330114  0.40305071]\n",
      "1 1 [0.0323137 0.5430114 0.4246749]\n",
      "1 2 [0.01072474 0.37728627 0.61198898]\n",
      "1 2 [0.04216556 0.47194008 0.48589436]\n",
      "1 1 [0.40896253 0.51337027 0.0776672 ]\n",
      "1 1 [0.2705838  0.58891019 0.14050601]\n",
      "1 1 [0.33550283 0.5731949  0.09130227]\n",
      "1 1 [0.20780182 0.58525995 0.20693823]\n",
      "1 2 [0.04216556 0.47194008 0.48589436]\n",
      "1 2 [0.03256461 0.40838427 0.55905112]\n",
      "1 2 [0.02985678 0.47828634 0.49185689]\n",
      "1 1 [0.09837321 0.6471161  0.25451069]\n",
      "1 0 [0.48492892 0.45006894 0.06500215]\n",
      "1 1 [0.11086579 0.58061781 0.3085164 ]\n",
      "1 1 [0.13413575 0.62927362 0.23659063]\n",
      "1 1 [0.11086579 0.58061781 0.3085164 ]\n",
      "1 1 [0.09435184 0.58826976 0.3173784 ]\n",
      "1 0 [0.57574822 0.35220156 0.07205022]\n",
      "2 2 [3.97686138e-04 2.32618794e-01 7.66983520e-01]\n",
      "2 2 [0.00556462 0.29964601 0.69478937]\n",
      "2 2 [0.00098433 0.27752282 0.72149285]\n",
      "2 2 [3.74608411e-04 3.71823267e-01 6.27802124e-01]\n",
      "2 2 [0.00234212 0.38480081 0.61285707]\n",
      "2 2 [3.44301219e-04 2.43106289e-01 7.56549409e-01]\n",
      "2 2 [0.00405723 0.31569449 0.68024828]\n",
      "2 2 [0.00190394 0.27323269 0.72486336]\n",
      "2 2 [0.00513418 0.25680055 0.73806527]\n",
      "2 2 [0.00179222 0.16462729 0.8335805 ]\n",
      "2 2 [0.00166331 0.20447964 0.79385705]\n",
      "2 2 [2.64252572e-04 3.61547247e-01 6.38188500e-01]\n",
      "2 2 [1.61917854e-04 3.60792793e-01 6.39045289e-01]\n",
      "2 2 [0.01785539 0.48470198 0.49744263]\n",
      "2 2 [0.00092578 0.24434165 0.75473257]\n",
      "2 2 [3.98964420e-04 3.97312771e-01 6.02288264e-01]\n",
      "2 2 [0.00982986 0.32480547 0.66536466]\n",
      "2 2 [0.00141037 0.29228537 0.70630426]\n",
      "2 2 [0.00172456 0.39697334 0.6013021 ]\n",
      "2 2 [0.01159217 0.31795833 0.6704495 ]\n",
      "2 2 [0.00982986 0.32480547 0.66536466]\n",
      "2 2 [0.0016383  0.28276887 0.71559282]\n",
      "2 2 [0.00132318 0.25761497 0.74106185]\n",
      "2 2 [0.0150706  0.48625931 0.49867009]\n",
      "2 2 [5.15927824e-04 2.85192249e-01 7.14291824e-01]\n",
      "2 2 [0.00086979 0.21230731 0.7868229 ]\n",
      "2 2 [0.00373902 0.36548601 0.63077497]\n",
      "2 2 [0.01159217 0.31795833 0.6704495 ]\n",
      "2 2 [0.00221364 0.2637112  0.73407515]\n",
      "2 2 [0.00086979 0.21230731 0.7868229 ]\n",
      "2 2 [0.00223014 0.18560086 0.812169  ]\n",
      "2 2 [0.00556462 0.29964601 0.69478937]\n",
      "2 2 [6.90954140e-04 2.64790363e-01 7.34518683e-01]\n",
      "2 2 [6.12271387e-04 2.01787740e-01 7.97599989e-01]\n",
      "2 2 [0.00192593 0.19492788 0.80314618]\n",
      "2 2 [0.0065258  0.29165337 0.70182083]\n",
      "2 2 [0.00376196 0.27437254 0.7218655 ]\n",
      "2 2 [0.00143657 0.21422843 0.784335  ]\n"
     ]
    },
    {
     "name": "stderr",
     "output_type": "stream",
     "text": [
      "/home/rjm49/anaconda3/envs/mlc/lib/python3.7/site-packages/sklearn/linear_model/logistic.py:433: FutureWarning: Default solver will be changed to 'lbfgs' in 0.22. Specify a solver to silence this warning.\n",
      "  FutureWarning)\n",
      "/home/rjm49/anaconda3/envs/mlc/lib/python3.7/site-packages/sklearn/linear_model/logistic.py:460: FutureWarning: Default multi_class will be changed to 'auto' in 0.22. Specify the multi_class option to silence this warning.\n",
      "  \"this warning.\", FutureWarning)\n",
      "/home/rjm49/anaconda3/envs/mlc/lib/python3.7/site-packages/sklearn/linear_model/logistic.py:433: FutureWarning: Default solver will be changed to 'lbfgs' in 0.22. Specify a solver to silence this warning.\n",
      "  FutureWarning)\n",
      "/home/rjm49/anaconda3/envs/mlc/lib/python3.7/site-packages/sklearn/linear_model/logistic.py:460: FutureWarning: Default multi_class will be changed to 'auto' in 0.22. Specify the multi_class option to silence this warning.\n",
      "  \"this warning.\", FutureWarning)\n",
      "/home/rjm49/anaconda3/envs/mlc/lib/python3.7/site-packages/sklearn/linear_model/logistic.py:433: FutureWarning: Default solver will be changed to 'lbfgs' in 0.22. Specify a solver to silence this warning.\n",
      "  FutureWarning)\n",
      "/home/rjm49/anaconda3/envs/mlc/lib/python3.7/site-packages/sklearn/linear_model/logistic.py:460: FutureWarning: Default multi_class will be changed to 'auto' in 0.22. Specify the multi_class option to silence this warning.\n",
      "  \"this warning.\", FutureWarning)\n",
      "/home/rjm49/anaconda3/envs/mlc/lib/python3.7/site-packages/sklearn/linear_model/logistic.py:433: FutureWarning: Default solver will be changed to 'lbfgs' in 0.22. Specify a solver to silence this warning.\n",
      "  FutureWarning)\n",
      "/home/rjm49/anaconda3/envs/mlc/lib/python3.7/site-packages/sklearn/linear_model/logistic.py:460: FutureWarning: Default multi_class will be changed to 'auto' in 0.22. Specify the multi_class option to silence this warning.\n",
      "  \"this warning.\", FutureWarning)\n",
      "/home/rjm49/anaconda3/envs/mlc/lib/python3.7/site-packages/sklearn/linear_model/logistic.py:433: FutureWarning: Default solver will be changed to 'lbfgs' in 0.22. Specify a solver to silence this warning.\n",
      "  FutureWarning)\n",
      "/home/rjm49/anaconda3/envs/mlc/lib/python3.7/site-packages/sklearn/linear_model/logistic.py:460: FutureWarning: Default multi_class will be changed to 'auto' in 0.22. Specify the multi_class option to silence this warning.\n",
      "  \"this warning.\", FutureWarning)\n"
     ]
    }
   ],
   "source": [
    "evaluate_cross_validation(reg, X_train, y_train, 5)\n",
    "y_hats_tr = reg.predict(X_train)\n",
    "y_hats_proba = reg.predict_proba(X_train)\n",
    "print(\"y yh[class probabilities]:\")\n",
    "for y,yh,yhp in zip(y_train, y_hats_tr, y_hats_proba):\n",
    "    print(y, yh, yhp)\n"
   ]
  },
  {
   "cell_type": "code",
   "execution_count": 34,
   "metadata": {},
   "outputs": [
    {
     "data": {
      "image/png": "[encoded data removed]",
      "text/plain": [
       "<Figure size 432x432 with 1 Axes>"
      ]
     },
     "metadata": {},
     "output_type": "display_data"
    },
    {
     "name": "stdout",
     "output_type": "stream",
     "text": [
      "TRAINING:\n",
      "Acc: 0.8828828828828829\n",
      "Classification Report:\n",
      "              precision    recall  f1-score   support\n",
      "\n",
      "           0       0.95      1.00      0.98        40\n",
      "           1       1.00      0.61      0.75        33\n",
      "           2       0.78      1.00      0.87        38\n",
      "\n",
      "   micro avg       0.88      0.88      0.88       111\n",
      "   macro avg       0.91      0.87      0.87       111\n",
      "weighted avg       0.91      0.88      0.88       111\n",
      "\n",
      "\n",
      "Confusion Mx (training data):\n",
      "[[40  0  0]\n",
      " [ 2 20 11]\n",
      " [ 0  0 38]]\n",
      "\n",
      "TEST\n",
      "Acc: 0.8571428571428571\n",
      "Classification Report:\n",
      "              precision    recall  f1-score   support\n",
      "\n",
      "           0       0.93      1.00      0.96        13\n",
      "           1       0.94      0.71      0.81        21\n",
      "           2       0.74      0.93      0.82        15\n",
      "\n",
      "   micro avg       0.86      0.86      0.86        49\n",
      "   macro avg       0.87      0.88      0.87        49\n",
      "weighted avg       0.87      0.86      0.86        49\n",
      "\n",
      "\n",
      "Confusion Mx (test data):\n",
      "[[13  0  0]\n",
      " [ 1 15  5]\n",
      " [ 0  1 14]]\n"
     ]
    }
   ],
   "source": [
    "from sklearn import metrics\n",
    "# Plot the decision boundary. For that, we will assign a color to each\n",
    "# point in the mesh [x_min, x_max]x[y_min, y_max].\n",
    "x_min, x_max = X_train[:, 0].min() - .5, X_train[:, 0].max() + .5\n",
    "y_min, y_max = X_train[:, 1].min() - .5, X_train[:, 1].max() + .5\n",
    "h = .02  # step size in the mesh\n",
    "xx, yy = np.meshgrid(np.arange(x_min, x_max, h), np.arange(y_min, y_max, h))\n",
    "# Z = reg_allf.predict(np.c_[xx.ravel(), yy.ravel()])\n",
    "Z = reg.predict(np.c_[xx.ravel(), yy.ravel()])\n",
    "\n",
    "# Put the result into a color plot\n",
    "Z = Z.reshape(xx.shape)\n",
    "plt.figure(1, figsize=(6, 6))\n",
    "plt.pcolormesh(xx, yy, Z, cmap=plt.cm.Paired)\n",
    "\n",
    "# Plot the training and test points\n",
    "plt.scatter(X_train[:, 0], X_train[:, 1], c=y_train, marker=\"o\", s=20, edgecolors='k', cmap=plt.cm.Paired)\n",
    "plt.scatter(X_test[:, 0], X_test[:, 1], c=y_test, marker=\"s\", s=50, edgecolors='w', alpha=0.7, cmap=plt.cm.Paired)\n",
    "plt.xlabel('Petal length')\n",
    "plt.ylabel('Petal width')\n",
    "\n",
    "plt.xlim(xx.min(), xx.max())\n",
    "plt.ylim(yy.min(), yy.max())\n",
    "plt.xticks(())\n",
    "plt.yticks(())\n",
    "plt.show()\n",
    "\n",
    "print(\"TRAINING:\")\n",
    "y_hats_tr = reg.predict(X_train)\n",
    "print(\"Acc:\", metrics.accuracy_score(y_train, y_hats_tr))\n",
    "# print(\"p/r/F/supp:\",sklearn.metrics.precision_recall_fscore_support(y_train, y_hats_tr, average='micro'))\n",
    "print (\"Classification Report:\")\n",
    "print (metrics.classification_report(y_train, y_hats_tr))\n",
    "print(\"\\nConfusion Mx (training data):\")\n",
    "print(metrics.confusion_matrix(y_train, y_hats_tr))\n",
    "\n",
    "print(\"\\nTEST\")\n",
    "y_hats = reg.predict(X_test)\n",
    "print(\"Acc:\", metrics.accuracy_score(y_test, y_hats))\n",
    "# print(\"p/r/F/supp:\",sklearn.metrics.precision_recall_fscore_support(y_test, y_hats, average='micro'))\n",
    "print (\"Classification Report:\")\n",
    "print (metrics.classification_report(y_test, y_hats))\n",
    "print(\"\\nConfusion Mx (test data):\")\n",
    "print(metrics.confusion_matrix(y_test, y_hats))\n"
   ]
  },
  {
   "cell_type": "code",
   "execution_count": 25,
   "metadata": {},
   "outputs": [
    {
     "name": "stdout",
     "output_type": "stream",
     "text": [
      "[[5.1 3.5 1.4 0.2]\n",
      " [4.7 3.2 1.3 0.2]\n",
      " [4.6 3.1 1.5 0.2]\n",
      " [5.  3.6 1.4 0.2]\n",
      " [5.4 3.9 1.7 0.4]\n",
      " [4.6 3.4 1.4 0.3]\n",
      " [4.9 3.1 1.5 0.1]\n",
      " [5.4 3.7 1.5 0.2]\n",
      " [4.8 3.4 1.6 0.2]\n",
      " [4.8 3.  1.4 0.1]]\n",
      "0.9387755102040817\n",
      "Classification Report:\n",
      "              precision    recall  f1-score   support\n",
      "\n",
      "           0       1.00      1.00      1.00        13\n",
      "           1       0.91      0.95      0.93        21\n",
      "           2       0.93      0.87      0.90        15\n",
      "\n",
      "   micro avg       0.94      0.94      0.94        49\n",
      "   macro avg       0.95      0.94      0.94        49\n",
      "weighted avg       0.94      0.94      0.94        49\n",
      "\n",
      "\n",
      "Confusion Mx (test data):\n",
      "[[13  0  0]\n",
      " [ 0 20  1]\n",
      " [ 0  2 13]]\n"
     ]
    },
    {
     "name": "stderr",
     "output_type": "stream",
     "text": [
      "/home/rjm49/anaconda3/envs/mlc/lib/python3.7/site-packages/sklearn/linear_model/logistic.py:433: FutureWarning: Default solver will be changed to 'lbfgs' in 0.22. Specify a solver to silence this warning.\n",
      "  FutureWarning)\n",
      "/home/rjm49/anaconda3/envs/mlc/lib/python3.7/site-packages/sklearn/linear_model/logistic.py:460: FutureWarning: Default multi_class will be changed to 'auto' in 0.22. Specify the multi_class option to silence this warning.\n",
      "  \"this warning.\", FutureWarning)\n"
     ]
    }
   ],
   "source": [
    "#now re-train with all the available flower features\n",
    "X_train = X[train_indices, :]\n",
    "X_test = X[test_indices, :]\n",
    "print(X_train[0:10])\n",
    "\n",
    "reg_allf = LogisticRegression()\n",
    "reg_allf.fit(X_train, y_train)\n",
    "\n",
    "y_hats = reg_allf.predict(X_test)\n",
    "\n",
    "print(metrics.accuracy_score(y_test, y_hats))\n",
    "print (\"Classification Report:\")\n",
    "print (metrics.classification_report(y_test, y_hats))\n",
    "print(\"\\nConfusion Mx (test data):\")\n",
    "print(metrics.confusion_matrix(y_test, y_hats))\n"
   ]
  },
  {
   "cell_type": "markdown",
   "metadata": {},
   "source": [
    "### Multinomial classification\n",
    "Now reintroduce the setosa class, and try running the same routines again with a non-binary dataset.\n",
    "\n",
    "## Summary\n",
    "- We loaded the Iris dataset and manually split it into training and test sets\n",
    "- We used Logistic Regression to classify the test data\n",
    "- We checked out the decision boundary by plotting the class partitions\n",
    "- We got P/R/F and Confusion Matrices on train and test\n",
    "- We repeated with all 3 classes"
   ]
  }
 ],
 "metadata": {
  "kernelspec": {
   "display_name": "Python 3",
   "language": "python",
   "name": "python3"
  },
  "language_info": {
   "codemirror_mode": {
    "name": "ipython",
    "version": 3
   },
   "file_extension": ".py",
   "mimetype": "text/x-python",
   "name": "python",
   "nbconvert_exporter": "python",
   "pygments_lexer": "ipython3",
   "version": "3.6.9"
  }
 },
 "nbformat": 4,
 "nbformat_minor": 2
}
