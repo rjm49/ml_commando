{
 "cells": [
  {
   "cell_type": "markdown",
   "metadata": {},
   "source": [
    "# Cambridge ML Commando Course\n",
    "## Session 2.1 - Classification with Logistic Regression"
   ]
  },
  {
   "cell_type": "code",
   "execution_count": 34,
   "metadata": {},
   "outputs": [
    {
     "name": "stdout",
     "output_type": "stream",
     "text": [
      "Populating the interactive namespace from numpy and matplotlib\n",
      "Python version: 3.7.3\n",
      "IPython version: 7.4.0\n",
      "numpy version: 1.16.2\n",
      "scikit-learn version: 0.20.3\n",
      "matplotlib version: 3.0.3\n"
     ]
    }
   ],
   "source": [
    "%pylab inline\n",
    "\n",
    "import numpy as np\n",
    "import scipy as sp\n",
    "import matplotlib.pyplot as plt\n",
    "import sklearn\n",
    "import IPython\n",
    "import platform\n",
    "\n",
    "from sklearn import preprocessing\n",
    "\n",
    "print ('Python version:', platform.python_version())\n",
    "print ('IPython version:', IPython.__version__)\n",
    "print ('numpy version:', np.__version__)\n",
    "print ('scikit-learn version:', sklearn.__version__)\n",
    "print ('matplotlib version:', matplotlib.__version__)"
   ]
  },
  {
   "cell_type": "code",
   "execution_count": 35,
   "metadata": {},
   "outputs": [
    {
     "name": "stdout",
     "output_type": "stream",
     "text": [
      "[0 0 0 0 0 0 0 0 0 0 0 0 0 0 0 0 0 0 0 0 0 0 0 0 0 0 0 0 0 0 0 0 0 0 0 0 0\n",
      " 0 0 0 0 0 0 0 0 0 0 0 0 0 1 1 1 1 1 1 1 1 1 1 1 1 1 1 1 1 1 1 1 1 1 1 1 1\n",
      " 1 1 1 1 1 1 1 1 1 1 1 1 1 1 1 1 1 1 1 1 1 1 1 1 1 1 2 2 2 2 2 2 2 2 2 2 2\n",
      " 2 2 2 2 2 2 2 2 2 2 2 2 2 2 2 2 2 2 2 2 2 2 2 2 2 2 2 2 2 2 2 2 2 2 2 2 2\n",
      " 2 2]\n",
      "['setosa' 'versicolor' 'virginica']\n"
     ]
    }
   ],
   "source": [
    "from sklearn import datasets\n",
    "iris = datasets.load_iris()\n",
    "\n",
    "print(iris.target)\n",
    "print(iris.target_names)"
   ]
  },
  {
   "cell_type": "code",
   "execution_count": 36,
   "metadata": {},
   "outputs": [
    {
     "name": "stdout",
     "output_type": "stream",
     "text": [
      "Data shape=(100, 4), type=<class 'numpy.ndarray'>, labels=['sepal length (cm)', 'sepal width (cm)', 'petal length (cm)', 'petal width (cm)']\n",
      "\n",
      "Target shape=(100,), type=<class 'numpy.ndarray'>, labels=['setosa' 'versicolor' 'virginica']\n",
      "(72, 2)\n"
     ]
    },
    {
     "data": {
      "image/png": "[encoded data removed]",
      "text/plain": [
       "<Figure size 432x288 with 1 Axes>"
      ]
     },
     "metadata": {
      "needs_background": "light"
     },
     "output_type": "display_data"
    }
   ],
   "source": [
    "from sklearn.preprocessing import StandardScaler\n",
    "manual_split=True\n",
    "remove_setosa = True\n",
    "\n",
    "if remove_setosa:\n",
    "    indices_no_setosa = (iris.target != 0) #[TRUE for non-setosa else FALSE]\n",
    "    X = iris.data[indices_no_setosa]\n",
    "    y = iris.target[indices_no_setosa]\n",
    "else:\n",
    "    X = iris.data\n",
    "    y = iris.target\n",
    "\n",
    "print(\"Data shape={}, type={}, labels={}\\n\".format(X.shape, type(X), iris.feature_names))\n",
    "print(\"Target shape={}, type={}, labels={}\".format(y.shape, type(y), iris.target_names))\n",
    "    \n",
    "if manual_split:\n",
    "    numpy.random.seed(42)\n",
    "    test_split = 0.33\n",
    "    test_n = int(test_split*len(X))\n",
    "    test_indices = numpy.random.randint(0,len(X), size=test_n)\n",
    "    train_indices = list(set(range(len(X))) - set(test_indices))\n",
    "\n",
    "    X_train  = X[:,[2,3]][train_indices]    \n",
    "    y_train = y[train_indices]\n",
    "    X_test = X[:,[2,3]][test_indices] \n",
    "    y_test = y[test_indices]\n",
    "else:\n",
    "    # convenience class to do the above...\n",
    "    from sklearn.model_selection import train_test_split\n",
    "    X_train, X_test, y_train, y_test = train_test_split(X[:,[2,3]], y, test_size=0.33, random_state=666)\n",
    "    \n",
    "print(X_train.shape)\n",
    "X_scaler = StandardScaler()\n",
    "X_train = X_scaler.fit_transform(X_train)\n",
    "X_test = X_scaler.transform(X_test)\n",
    "\n",
    "ax = plt.gca()\n",
    "ax.scatter(X_train[:,0], X_train[:,1], c=y_train, alpha=0.5, cmap=plt.cm.Paired)\n",
    "ax.scatter(X_test[:,0], X_test[:,1], marker=\"s\", s=50, c=y_test, edgecolor=\"k\", cmap=plt.cm.Paired) #it's sneaky to look at your test data!\n",
    "# plt.legend()\n",
    "plt.xlabel('Petal length')\n",
    "plt.ylabel('Petal width')\n",
    "plt.show()"
   ]
  },
  {
   "cell_type": "code",
   "execution_count": 37,
   "metadata": {},
   "outputs": [],
   "source": [
    "from sklearn.model_selection import cross_val_score, KFold\n",
    "from scipy.stats import sem\n",
    "\n",
    "def evaluate_cross_validation(estr, X, y, K):\n",
    "    # create a k-fold croos validation iterator of k=5 folds\n",
    "    print(\"underway...\")\n",
    "    k_cv = KFold(n_splits=K, shuffle=True, random_state=0)\n",
    "    # by default the score used is the one returned by score method of the estimator (accuracy)\n",
    "    scores = cross_val_score(estr, X, y, cv=k_cv)\n",
    "    print (scores)\n",
    "    print ((\"Mean score: {0:.3f} (+/-{1:.3f})\").format(\n",
    "        np.mean(scores), sem(scores)))"
   ]
  },
  {
   "cell_type": "code",
   "execution_count": 38,
   "metadata": {},
   "outputs": [
    {
     "name": "stderr",
     "output_type": "stream",
     "text": [
      "/home/rjm49/anaconda3/envs/mlc/lib/python3.7/site-packages/sklearn/linear_model/logistic.py:433: FutureWarning: Default solver will be changed to 'lbfgs' in 0.22. Specify a solver to silence this warning.\n",
      "  FutureWarning)\n"
     ]
    },
    {
     "data": {
      "text/plain": [
       "LogisticRegression(C=1.0, class_weight=None, dual=False, fit_intercept=True,\n",
       "          intercept_scaling=1, max_iter=100, multi_class='warn',\n",
       "          n_jobs=None, penalty='l2', random_state=None, solver='warn',\n",
       "          tol=0.0001, verbose=0, warm_start=False)"
      ]
     },
     "execution_count": 38,
     "metadata": {},
     "output_type": "execute_result"
    }
   ],
   "source": [
    "from sklearn.linear_model import LogisticRegression\n",
    "reg = LogisticRegression()#multi_class=\"ovr\", solver=\"liblinear\")#(multi_class=\"multinomial\")\n",
    "# from sklearn import svm\n",
    "# reg = svm.SVC(kernel=\"poly\")\n",
    "reg.fit(X_train, y_train)"
   ]
  },
  {
   "cell_type": "code",
   "execution_count": 39,
   "metadata": {
    "scrolled": true
   },
   "outputs": [
    {
     "name": "stdout",
     "output_type": "stream",
     "text": [
      "underway...\n",
      "[0.93333333 0.93333333 1.         0.92857143 0.85714286]\n",
      "Mean score: 0.930 (+/-0.023)\n",
      "y yh[class probabilities]:\n",
      "1 1 [0.83903345 0.16096655]\n",
      "1 1 [0.9769779 0.0230221]\n",
      "1 1 [0.80626549 0.19373451]\n",
      "1 1 [0.92943997 0.07056003]\n",
      "1 1 [0.67542781 0.32457219]\n",
      "1 1 [0.99884579 0.00115421]\n",
      "1 1 [0.91246732 0.08753268]\n",
      "1 1 [0.9713318 0.0286682]\n",
      "1 1 [0.9981583 0.0018417]\n",
      "1 1 [0.91387053 0.08612947]\n",
      "1 1 [0.99409089 0.00590911]\n",
      "1 1 [0.83903345 0.16096655]\n",
      "1 1 [0.91317149 0.08682851]\n",
      "1 1 [0.84022493 0.15977507]\n",
      "1 1 [0.99254476 0.00745524]\n",
      "1 1 [0.84022493 0.15977507]\n",
      "1 1 [0.99260995 0.00739005]\n",
      "1 1 [0.67348498 0.32651502]\n",
      "1 1 [0.95461276 0.04538724]\n",
      "1 1 [0.91317149 0.08682851]\n",
      "1 1 [0.80487959 0.19512041]\n",
      "1 2 [0.39455523 0.60544477]\n",
      "1 1 [0.84022493 0.15977507]\n",
      "1 1 [0.99414264 0.00585736]\n",
      "1 1 [0.99706254 0.00293746]\n",
      "1 2 [0.44940511 0.55059489]\n",
      "1 1 [0.84022493 0.15977507]\n",
      "1 1 [0.76866613 0.23133387]\n",
      "1 1 [0.76708895 0.23291105]\n",
      "1 1 [0.97108437 0.02891563]\n",
      "1 1 [0.9769779 0.0230221]\n",
      "1 1 [0.96342763 0.03657237]\n",
      "1 1 [0.98532921 0.01467079]\n",
      "1 1 [0.99884579 0.00115421]\n",
      "1 1 [0.96373814 0.03626186]\n",
      "1 1 [0.97677804 0.02322196]\n",
      "1 1 [0.96373814 0.03626186]\n",
      "1 1 [0.95461276 0.04538724]\n",
      "1 1 [0.97108437 0.02891563]\n",
      "2 2 [0.00159251 0.99840749]\n",
      "2 2 [0.09185595 0.90814405]\n",
      "2 2 [0.00999555 0.99000445]\n",
      "2 2 [0.00245227 0.99754773]\n",
      "2 1 [0.67736462 0.32263538]\n",
      "2 2 [0.11421874 0.88578126]\n",
      "2 2 [0.03123367 0.96876633]\n",
      "2 2 [0.02031369 0.97968631]\n",
      "2 2 [0.02013834 0.97986166]\n",
      "2 2 [0.11332656 0.88667344]\n",
      "2 2 [0.00122771 0.99877229]\n",
      "2 2 [4.86183771e-04 9.99513816e-01]\n",
      "2 1 [0.62010914 0.37989086]\n",
      "2 2 [0.00799669 0.99200331]\n",
      "2 2 [0.00306953 0.99693047]\n",
      "2 2 [0.34223865 0.65776135]\n",
      "2 2 [0.39667094 0.60332906]\n",
      "2 2 [0.34223865 0.65776135]\n",
      "2 2 [0.02487979 0.97512021]\n",
      "2 2 [0.13694227 0.86305773]\n",
      "2 2 [0.01945164 0.98054836]\n",
      "2 2 [0.00617395 0.99382605]\n",
      "2 1 [0.56366094 0.43633906]\n",
      "2 2 [0.38823202 0.61176798]\n",
      "2 2 [0.00315184 0.99684816]\n",
      "2 2 [0.03914508 0.96085492]\n",
      "2 2 [0.03177362 0.96822638]\n",
      "2 2 [0.00502318 0.99497682]\n",
      "2 2 [0.00320794 0.99679206]\n",
      "2 2 [0.02531276 0.97468724]\n",
      "2 2 [0.20645628 0.79354372]\n",
      "2 2 [0.09334292 0.90665708]\n",
      "2 2 [0.0160043 0.9839957]\n"
     ]
    },
    {
     "name": "stderr",
     "output_type": "stream",
     "text": [
      "/home/rjm49/anaconda3/envs/mlc/lib/python3.7/site-packages/sklearn/linear_model/logistic.py:433: FutureWarning: Default solver will be changed to 'lbfgs' in 0.22. Specify a solver to silence this warning.\n",
      "  FutureWarning)\n",
      "/home/rjm49/anaconda3/envs/mlc/lib/python3.7/site-packages/sklearn/linear_model/logistic.py:433: FutureWarning: Default solver will be changed to 'lbfgs' in 0.22. Specify a solver to silence this warning.\n",
      "  FutureWarning)\n",
      "/home/rjm49/anaconda3/envs/mlc/lib/python3.7/site-packages/sklearn/linear_model/logistic.py:433: FutureWarning: Default solver will be changed to 'lbfgs' in 0.22. Specify a solver to silence this warning.\n",
      "  FutureWarning)\n",
      "/home/rjm49/anaconda3/envs/mlc/lib/python3.7/site-packages/sklearn/linear_model/logistic.py:433: FutureWarning: Default solver will be changed to 'lbfgs' in 0.22. Specify a solver to silence this warning.\n",
      "  FutureWarning)\n",
      "/home/rjm49/anaconda3/envs/mlc/lib/python3.7/site-packages/sklearn/linear_model/logistic.py:433: FutureWarning: Default solver will be changed to 'lbfgs' in 0.22. Specify a solver to silence this warning.\n",
      "  FutureWarning)\n"
     ]
    }
   ],
   "source": [
    "evaluate_cross_validation(reg, X_train, y_train, 5)\n",
    "y_hats_tr = reg.predict(X_train)\n",
    "y_hats_proba = reg.predict_proba(X_train)\n",
    "print(\"y yh[class probabilities]:\")\n",
    "for y,yh,yhp in zip(y_train, y_hats_tr, y_hats_proba):\n",
    "    print(y, yh, yhp)\n"
   ]
  },
  {
   "cell_type": "code",
   "execution_count": 49,
   "metadata": {},
   "outputs": [
    {
     "data": {
      "image/png": "[encoded data removed]",
      "text/plain": [
       "<Figure size 432x432 with 1 Axes>"
      ]
     },
     "metadata": {},
     "output_type": "display_data"
    },
    {
     "name": "stdout",
     "output_type": "stream",
     "text": [
      "TRAINING:\n",
      "Acc: 0.9305555555555556\n",
      "Classification Report:\n",
      "              precision    recall  f1-score   support\n",
      "\n",
      "           1       0.93      0.95      0.94        39\n",
      "           2       0.94      0.91      0.92        33\n",
      "\n",
      "   micro avg       0.93      0.93      0.93        72\n",
      "   macro avg       0.93      0.93      0.93        72\n",
      "weighted avg       0.93      0.93      0.93        72\n",
      "\n",
      "\n",
      "Confusion Mx (training data):\n",
      "[[37  2]\n",
      " [ 3 30]]\n",
      "\n",
      "TEST\n",
      "Acc: 0.9393939393939394\n",
      "Classification Report:\n",
      "              precision    recall  f1-score   support\n",
      "\n",
      "           1       1.00      0.86      0.92        14\n",
      "           2       0.90      1.00      0.95        19\n",
      "\n",
      "   micro avg       0.94      0.94      0.94        33\n",
      "   macro avg       0.95      0.93      0.94        33\n",
      "weighted avg       0.95      0.94      0.94        33\n",
      "\n",
      "\n",
      "Confusion Mx (test data):\n",
      "[[12  2]\n",
      " [ 0 19]]\n"
     ]
    }
   ],
   "source": [
    "from sklearn import metrics\n",
    "# Plot the decision boundary. For that, we will assign a color to each\n",
    "# point in the mesh [x_min, x_max]x[y_min, y_max].\n",
    "x_min, x_max = X_train[:, 0].min() - .5, X_train[:, 0].max() + .5\n",
    "y_min, y_max = X_train[:, 1].min() - .5, X_train[:, 1].max() + .5\n",
    "h = .02  # step size in the mesh\n",
    "xx, yy = np.meshgrid(np.arange(x_min, x_max, h), np.arange(y_min, y_max, h))\n",
    "# Z = reg_allf.predict(np.c_[xx.ravel(), yy.ravel()])\n",
    "Z = reg.predict(np.c_[xx.ravel(), yy.ravel()])\n",
    "\n",
    "# Put the result into a color plot\n",
    "Z = Z.reshape(xx.shape)\n",
    "plt.figure(1, figsize=(6, 6))\n",
    "plt.pcolormesh(xx, yy, Z, cmap=plt.cm.Pastel1_r)\n",
    "\n",
    "# Plot the training and test points\n",
    "plt.scatter(X_train[:, 0], X_train[:, 1], c=y_train, marker=\"o\", s=20, edgecolors='k', cmap=plt.cm.Paired)\n",
    "plt.scatter(X_test[:, 0], X_test[:, 1], c=y_test, marker=\"s\", s=50, edgecolors=['k'], alpha=0.7, cmap=plt.cm.Paired)\n",
    "plt.xlabel('Petal length')\n",
    "plt.ylabel('Petal width')\n",
    "\n",
    "plt.xlim(xx.min(), xx.max())\n",
    "plt.ylim(yy.min(), yy.max())\n",
    "plt.xticks(())\n",
    "plt.yticks(())\n",
    "plt.show()\n",
    "\n",
    "print(\"TRAINING:\")\n",
    "y_hats_tr = reg.predict(X_train)\n",
    "print(\"Acc:\", metrics.accuracy_score(y_train, y_hats_tr))\n",
    "# print(\"p/r/F/supp:\",sklearn.metrics.precision_recall_fscore_support(y_train, y_hats_tr, average='micro'))\n",
    "print (\"Classification Report:\")\n",
    "print (metrics.classification_report(y_train, y_hats_tr))\n",
    "print(\"\\nConfusion Mx (training data):\")\n",
    "print(metrics.confusion_matrix(y_train, y_hats_tr))\n",
    "\n",
    "print(\"\\nTEST\")\n",
    "y_hats = reg.predict(X_test)\n",
    "print(\"Acc:\", metrics.accuracy_score(y_test, y_hats))\n",
    "# print(\"p/r/F/supp:\",sklearn.metrics.precision_recall_fscore_support(y_test, y_hats, average='micro'))\n",
    "print (\"Classification Report:\")\n",
    "print (metrics.classification_report(y_test, y_hats))\n",
    "print(\"\\nConfusion Mx (test data):\")\n",
    "print(metrics.confusion_matrix(y_test, y_hats))\n"
   ]
  },
  {
   "cell_type": "code",
   "execution_count": 22,
   "metadata": {},
   "outputs": [
    {
     "name": "stdout",
     "output_type": "stream",
     "text": [
      "[[7.  3.2 4.7 1.4]\n",
      " [5.5 2.3 4.  1.3]\n",
      " [6.5 2.8 4.6 1.5]\n",
      " [5.7 2.8 4.5 1.3]\n",
      " [6.3 3.3 4.7 1.6]\n",
      " [4.9 2.4 3.3 1. ]\n",
      " [6.6 2.9 4.6 1.3]\n",
      " [5.2 2.7 3.9 1.4]\n",
      " [5.  2.  3.5 1. ]\n",
      " [5.9 3.  4.2 1.5]]\n",
      "0.9393939393939394\n",
      "Classification Report:\n",
      "              precision    recall  f1-score   support\n",
      "\n",
      "           1       1.00      0.86      0.92        14\n",
      "           2       0.90      1.00      0.95        19\n",
      "\n",
      "   micro avg       0.94      0.94      0.94        33\n",
      "   macro avg       0.95      0.93      0.94        33\n",
      "weighted avg       0.95      0.94      0.94        33\n",
      "\n",
      "\n",
      "Confusion Mx (test data):\n",
      "[[12  2]\n",
      " [ 0 19]]\n"
     ]
    },
    {
     "name": "stderr",
     "output_type": "stream",
     "text": [
      "/home/rjm49/anaconda3/envs/mlc/lib/python3.7/site-packages/sklearn/linear_model/logistic.py:433: FutureWarning: Default solver will be changed to 'lbfgs' in 0.22. Specify a solver to silence this warning.\n",
      "  FutureWarning)\n"
     ]
    }
   ],
   "source": [
    "#now re-train with all the available flower features\n",
    "X_train = X[train_indices, :]\n",
    "X_test = X[test_indices, :]\n",
    "print(X_train[0:10])\n",
    "\n",
    "reg_allf = LogisticRegression()\n",
    "reg_allf.fit(X_train, y_train)\n",
    "\n",
    "y_hats = reg_allf.predict(X_test)\n",
    "\n",
    "print(metrics.accuracy_score(y_test, y_hats))\n",
    "print (\"Classification Report:\")\n",
    "print (metrics.classification_report(y_test, y_hats))\n",
    "print(\"\\nConfusion Mx (test data):\")\n",
    "print(metrics.confusion_matrix(y_test, y_hats))\n"
   ]
  },
  {
   "cell_type": "markdown",
   "metadata": {},
   "source": [
    "### Multinomial classification\n",
    "Now reintroduce the setosa class, and try running the same routines again with a non-binary dataset.\n",
    "\n",
    "## Summary\n",
    "- We loaded the Iris dataset and manually split it into training and test sets\n",
    "- We used Logistic Regression to classify the test data\n",
    "- We checked out the decision boundary by plotting the class partitions\n",
    "- We got P/R/F and Confusion Matrices on train and test\n",
    "- We repeated with all 3 classes"
   ]
  }
 ],
 "metadata": {
  "kernelspec": {
   "display_name": "Python 3",
   "language": "python",
   "name": "python3"
  },
  "language_info": {
   "codemirror_mode": {
    "name": "ipython",
    "version": 3
   },
   "file_extension": ".py",
   "mimetype": "text/x-python",
   "name": "python",
   "nbconvert_exporter": "python",
   "pygments_lexer": "ipython3",
   "version": "3.7.3"
  }
 },
 "nbformat": 4,
 "nbformat_minor": 2
}
