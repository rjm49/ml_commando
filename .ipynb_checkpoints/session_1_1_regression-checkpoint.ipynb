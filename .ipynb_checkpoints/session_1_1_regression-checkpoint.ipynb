{
 "cells": [
  {
   "cell_type": "markdown",
   "metadata": {},
   "source": [
    "# Session 1.1 - Univariate Linear and Non-linear Regression"
   ]
  },
  {
   "cell_type": "code",
   "execution_count": 80,
   "metadata": {},
   "outputs": [
    {
     "name": "stdout",
     "output_type": "stream",
     "text": [
      "Populating the interactive namespace from numpy and matplotlib\n"
     ]
    },
    {
     "name": "stderr",
     "output_type": "stream",
     "text": [
      "/home/rjm49/.venvs/isaac/lib/python3.6/site-packages/IPython/core/magics/pylab.py:160: UserWarning: pylab import has clobbered these variables: ['f', 'title']\n",
      "`%matplotlib` prevents importing * from pylab and numpy\n",
      "  \"\\n`%matplotlib` prevents importing * from pylab and numpy\"\n"
     ]
    }
   ],
   "source": [
    "%pylab inline\n",
    "import numpy as np\n",
    "import scipy as sp\n",
    "import matplotlib.pyplot as plt\n",
    "import sklearn\n",
    "import IPython\n",
    "import platform\n",
    "from sklearn import preprocessing\n",
    "# print ('Python version:', platform.python_version())\n",
    "# print ('IPython version:', IPython.__version__)\n",
    "# print ('numpy version:', np.__version__)\n",
    "# print ('scikit-learn version:', sklearn.__version__)\n",
    "# print ('matplotlib version:', matplotlib.__version__)"
   ]
  },
  {
   "cell_type": "markdown",
   "metadata": {},
   "source": [
    "## Introduction to Linear Regression\n",
    "Linear regression is a very common and surprisingly useful technique for modelling the relationship between two or more variables or characteristics.  For instance, an idealised relationship between two values might take the form:\n",
    "\n",
    "$y = b + wx$\n",
    "\n",
    "Where $y$ is the dependent variable like (house price) or (crop yield), and $x$ is the independent or controlling variable like (distance from capital) or (amount of fertiliser).\n",
    "\n",
    "The relationship between these two variables is a line with slope $w$ and intercept $b$.\n",
    "\n",
    "In practice when we collect data from the real world, there is some noise in the $y$ values.  In linear regression what we aim to do is _fit_ a line to our datapoints."
   ]
  },
  {
   "cell_type": "markdown",
   "metadata": {},
   "source": [
    "## Generate a dataset using scikit-learn's utils\n",
    "First we will create a dataset to try out linear regression.  Luckily scikit-learn has a module (sklearn.datasets) with both a nice selection of pre-built datasets, and various routines to generate datasets.  We can use [make_regression](https://scikit-learn.org/stable/modules/generated/sklearn.datasets.make_regression.html) to synthesise a typical sort of regression problem."
   ]
  },
  {
   "cell_type": "code",
   "execution_count": 46,
   "metadata": {},
   "outputs": [],
   "source": [
    "from sklearn.datasets import make_regression, load_diabetes, load_iris\n",
    "use_diabetes = False\n",
    "if use_diabetes:\n",
    "    data_bunch = load_diabetes()\n",
    "    X = data_bunch.data[:,2] # this is the BMI column\n",
    "    y = data_bunch.target # this is the blood sugar level\n",
    "else:\n",
    "    X, y = make_regression(n_samples=100, n_features=1, noise=30, random_state=666)"
   ]
  },
  {
   "cell_type": "markdown",
   "metadata": {},
   "source": [
    "The make_regression call produces numpy arrays, which are matrix or table-like structures.  We can check the shape using the code below.  Note that X is technically 2D, because it is a matrix of 50 rows, with one datapoint in each row (this is how sklearn \"thinks\" about data).  On the other hand, y for some reason is just a list of target values and so it is only 1D.  This is why X is in caps and y is lower case.\n"
   ]
  },
  {
   "cell_type": "code",
   "execution_count": 47,
   "metadata": {},
   "outputs": [
    {
     "name": "stdout",
     "output_type": "stream",
     "text": [
      "<class 'numpy.ndarray'> <class 'numpy.ndarray'>\n",
      "(100, 1)\n",
      "(100,)\n"
     ]
    },
    {
     "data": {
      "text/plain": [
       "<matplotlib.collections.PathCollection at 0x7f1e63f07390>"
      ]
     },
     "execution_count": 47,
     "metadata": {},
     "output_type": "execute_result"
    },
    {
     "data": {
      "image/png": "[encoded data removed]",
      "text/plain": [
       "<matplotlib.figure.Figure at 0x7f1e63a450b8>"
      ]
     },
     "metadata": {},
     "output_type": "display_data"
    }
   ],
   "source": [
    "print(type(X), type(y))\n",
    "print(X.shape)\n",
    "print(y.shape)\n",
    "plt.scatter(X,y)"
   ]
  },
  {
   "cell_type": "markdown",
   "metadata": {},
   "source": [
    "## Partition the dataset\n",
    "Next we have to split the dataset into training and test sets.  This is fairly normal - we do our machine learning on the training set, but to see how well we've done, we need to test it on some unseen data to make sure it's not \"overfitting\" to some peculiarities in the training set.\n",
    "\n",
    "In fact, to do this exactly right, we should never reuse the test set (or even look at it), because doing so introduces bias to our evaluation.  However in practice data is quite a limited resource so this rule is often rather loosely followed!"
   ]
  },
  {
   "cell_type": "code",
   "execution_count": 78,
   "metadata": {},
   "outputs": [
    {
     "data": {
      "image/png": "[encoded data removed]",
      "text/plain": [
       "<matplotlib.figure.Figure at 0x7f1e63dc7518>"
      ]
     },
     "metadata": {},
     "output_type": "display_data"
    }
   ],
   "source": [
    "n = len(X)\n",
    "\n",
    "# numpy.random.seed(666)\n",
    "test_split = 0.25\n",
    "test_n = int(test_split*n)\n",
    "test_indices = numpy.random.randint(0,n, size=test_n)\n",
    "\n",
    "\n",
    "train_indices = list(set(range(n)) - set(test_indices))\n",
    "\n",
    "X_train  = X[train_indices]\n",
    "y_train = y[train_indices]\n",
    "X_test = X[test_indices]\n",
    "y_test = y[test_indices]\n",
    "\n",
    "# convenience class to do the above...\n",
    "# from sklearn.cross_validation import train_test_split\n",
    "# X_train, X_test, y_train, y_test = train_test_split(X, y, test_size=0.25, random_state=666)\n",
    "\n",
    "# plt.figure(figsize=(10,10)) # set figure size to 10x10 inches\n",
    "plt.scatter(X_train, y_train)\n",
    "plt.scatter(X_test, y_test) #it's sneaky to look at your test data!\n",
    "plt.legend(labels=[\"Training set\", \"Test set\"])\n",
    "plt.show()"
   ]
  },
  {
   "cell_type": "markdown",
   "metadata": {},
   "source": [
    "## DIY Linear Regression\n",
    "Mostly we will be using scikit-learn's tools (and a few others) but let's start by rolling our own linear regression function.  Nothing fancy, it will just work for 2D (x,y) datapoints.  We will feed in the points and some configuration parameters.  The code performs gradient descent on the coefficients w and b.\n",
    "\n",
    "The routine returns a list of predicted y-values ($\\mathbf{\\hat{y}}$, y_hats), as well as the resultant values for $w$ and $b$ and the final cost value (which is just the sum of the squared differences between y_hats and y)."
   ]
  },
  {
   "cell_type": "code",
   "execution_count": 49,
   "metadata": {},
   "outputs": [],
   "source": [
    "def my_linear_regression(xs,ys, n_iter=300, learning_rate_alpha=0.001):\n",
    "    \n",
    "    # define a local helper function to recalculate the y_hats and cost of the current line\n",
    "    def recalc_predictions(xs,ys, b,w):\n",
    "        cost = 0\n",
    "        y_hats = []\n",
    "        for x,y in zip(xs,ys):\n",
    "            y_hat = b+w*x\n",
    "            cost += (y_hat- y)**2\n",
    "            y_hats.append(y_hat)\n",
    "        return y_hats, cost\n",
    "    \n",
    "    N = len(xs)\n",
    "    w = 0.0\n",
    "    b = 0.0\n",
    "\n",
    "    # this loop does the gradient descent proper\n",
    "    for i in range(n_iter):\n",
    "        y_hats, cost = recalc_predictions(xs,ys,b,w)\n",
    "#         if i % 100 == 0:\n",
    "#             print(\"cost at iteration {} = {}\".format(i,cost)) # purely for display purposes\n",
    "        change_w = 0.0\n",
    "        change_b = 0.0    \n",
    "        for x,y,y_hat in zip(xs,ys,y_hats):  \n",
    "            change_w +=  2*x * (y_hat - y) # get the gradient value for each point\n",
    "            change_b +=  2   * (y_hat - y) # bias doesn't depend on x, so the delta is a bit different\n",
    "        change_w = change_w/N # divide these to get an average\n",
    "        change_b = change_b/N\n",
    "        w = w - learning_rate_alpha * change_w # here we actually adjust the coefficients/weights!\n",
    "        b = b - learning_rate_alpha * change_b\n",
    "    return y_hats, w, b, cost"
   ]
  },
  {
   "cell_type": "code",
   "execution_count": 50,
   "metadata": {},
   "outputs": [],
   "source": [
    "from sklearn.base import BaseEstimator\n",
    "from sklearn.utils.validation import check_X_y, check_array, check_is_fitted\n",
    "from sklearn.metrics import r2_score\n",
    "class MyLinearRegressor(BaseEstimator):\n",
    "    def __init__(self, demo_param='demo'):\n",
    "         self.demo_param = demo_param\n",
    "\n",
    "    def fit(self, X, y):\n",
    "        # Check that X and y have correct shape\n",
    "        X, y = check_X_y(X, y)\n",
    "        # Store the classes seen during fit\n",
    "#         self.classes_ = unique_labels(y)\n",
    "        self.X_ = X\n",
    "        self.y_ = y\n",
    "        _,w,b,_ = my_linear_regression(X,y)\n",
    "        self.w_ =  w\n",
    "        self.b_ =  b\n",
    "         # Return the classifier\n",
    "        return self\n",
    "\n",
    "    def predict(self, X):\n",
    "        # Check is fit had been called\n",
    "        check_is_fitted(self)\n",
    "        # Input validation\n",
    "        X = check_array(X)\n",
    "#         closest = np.argmin(euclidean_distances(X, self.X_), axis=1)\n",
    "        y_hats = self.b_ + self.w_*X\n",
    "        return y_hats\n",
    "#         return self.y_[closest]\n",
    "\n",
    "    def score(self, X,y):\n",
    "        check_is_fitted(self)\n",
    "        X = check_array(X)\n",
    "        y_hats = self.predict(X)\n",
    "        return r2_score(y, y_hats)\n",
    "        "
   ]
  },
  {
   "cell_type": "code",
   "execution_count": 51,
   "metadata": {},
   "outputs": [
    {
     "name": "stderr",
     "output_type": "stream",
     "text": [
      "/home/rjm49/.venvs/isaac/lib/python3.6/site-packages/sklearn/linear_model/_stochastic_gradient.py:1228: ConvergenceWarning: Maximum number of iteration reached before convergence. Consider increasing max_iter to improve the fit.\n",
      "  ConvergenceWarning)\n"
     ]
    },
    {
     "data": {
      "image/png": "[encoded data removed]",
      "text/plain": [
       "<matplotlib.figure.Figure at 0x7f1e63b5b588>"
      ]
     },
     "metadata": {},
     "output_type": "display_data"
    },
    {
     "name": "stdout",
     "output_type": "stream",
     "text": [
      "(77,)\n",
      "(77,)\n"
     ]
    }
   ],
   "source": [
    "from sklearn.linear_model import LinearRegression, SGDRegressor\n",
    "\n",
    "X_train = X_train.reshape(-1,1)\n",
    "X_test = X_test.reshape(-1,1)\n",
    "\n",
    "my_reg = MyLinearRegressor()\n",
    "my_reg.fit(X_train,y_train)\n",
    "diy_y_hats = my_reg.predict(X_train).ravel()\n",
    "\n",
    "reg = LinearRegression()\n",
    "sgd_reg = SGDRegressor(max_iter=10) # Stochastic Gradient Descent - can approximate LReg for very big problems\n",
    "\n",
    "reg.fit(X_train,y_train)\n",
    "y_hats = reg.predict(X_train).ravel()\n",
    "\n",
    "sgd_reg.fit(X_train, y_train)\n",
    "sgd_y_hats = sgd_reg.predict(X_train).ravel()\n",
    "\n",
    "plt.figure(figsize=(10,10))\n",
    "plt.scatter(X_train, y_train)\n",
    "plt.plot(X_train, diy_y_hats, color=\"green\", label=\"DIY\", alpha=0.5)\n",
    "plt.plot(X_train, sgd_y_hats, color=\"blue\", label=\"sk SGD\", alpha=0.5)\n",
    "plt.plot(X_train, y_hats, color=\"red\", label=\"sk OLSR\", alpha=0.5)\n",
    "plt.axhline(numpy.mean(y_train), color=\"gray\", linestyle=\"--\")\n",
    "plt.legend(labels=[\"DIY\",\"SGD\",\"OLSR\"])\n",
    "# plt.legend(labels=[\"Stochastic Grad. Desc.\", \"Ordinary Least Sqs.\"])\n",
    "plt.show()\n",
    "\n",
    "print(y_hats.shape)\n",
    "print(diy_y_hats.shape)"
   ]
  },
  {
   "cell_type": "markdown",
   "metadata": {},
   "source": [
    "Hmm, these look a bit different.  We can assume the sklearn line is a pretty good fit.  Is there anything you can change to improve our line?  \n",
    "Can you think of a different way to control the gradient descent?"
   ]
  },
  {
   "cell_type": "markdown",
   "metadata": {},
   "source": [
    "## Basic measures of performance and goodness-of-fit"
   ]
  },
  {
   "cell_type": "code",
   "execution_count": 52,
   "metadata": {},
   "outputs": [
    {
     "name": "stdout",
     "output_type": "stream",
     "text": [
      "Ord.Least.Sqs\n",
      "R2 is 0.9050596486953302\n",
      "MAE is 17.129883598040436\n",
      "MSE is 467.1499252246127\n",
      "RMSE is 21.61365136261369\n",
      "---\n",
      "Stoch.Grad.Desc.\n",
      "R2 is 0.9004418965579976\n",
      "MAE is 16.662575976626083\n",
      "MSE is 489.87137649392787\n",
      "RMSE is 22.13303812163906\n",
      "---\n",
      "DIY.Grad.Desc\n",
      "R2 is 0.6489007033947238\n",
      "MAE is 29.867839909385957\n",
      "MSE is 1727.5690252001568\n",
      "RMSE is 41.56403523721147\n",
      "---\n"
     ]
    }
   ],
   "source": [
    "from sklearn.metrics import mean_absolute_error, mean_squared_error\n",
    "\n",
    "for name, this_reg in [(\"Ord.Least.Sqs\", reg), (\"Stoch.Grad.Desc.\", sgd_reg), (\"DIY.Grad.Desc\", my_reg)]:\n",
    "    print(name)\n",
    "    print(\"R2 is\", this_reg.score(X_test, y_test))\n",
    "    y_hats_test = this_reg.predict(X_test)\n",
    "    print(\"MAE is\", mean_absolute_error(y_test, y_hats_test))\n",
    "    print(\"MSE is\", mean_squared_error(y_test, y_hats_test))\n",
    "    print(\"RMSE is\", numpy.sqrt(mean_squared_error(y_test, y_hats_test)))\n",
    "    print(\"---\")"
   ]
  },
  {
   "cell_type": "markdown",
   "metadata": {},
   "source": [
    "## Plot the residuals and do an F-Test\n"
   ]
  },
  {
   "cell_type": "code",
   "execution_count": 53,
   "metadata": {},
   "outputs": [
    {
     "name": "stdout",
     "output_type": "stream",
     "text": [
      "(77,)\n"
     ]
    },
    {
     "data": {
      "image/png": "[encoded data removed]",
      "text/plain": [
       "<matplotlib.figure.Figure at 0x7f1e679e8cf8>"
      ]
     },
     "metadata": {},
     "output_type": "display_data"
    },
    {
     "data": {
      "image/png": "[encoded data removed]",
      "text/plain": [
       "<matplotlib.figure.Figure at 0x7f1e63ac6208>"
      ]
     },
     "metadata": {},
     "output_type": "display_data"
    },
    {
     "name": "stdout",
     "output_type": "stream",
     "text": [
      "2.78223196003149 56.74618556948872\n"
     ]
    },
    {
     "data": {
      "image/png": "[encoded data removed]",
      "text/plain": [
       "<matplotlib.figure.Figure at 0x7f1e639cf860>"
      ]
     },
     "metadata": {},
     "output_type": "display_data"
    },
    {
     "data": {
      "image/png": "[encoded data removed]",
      "text/plain": [
       "<matplotlib.figure.Figure at 0x7f1e63cfa3c8>"
      ]
     },
     "metadata": {},
     "output_type": "display_data"
    },
    {
     "name": "stdout",
     "output_type": "stream",
     "text": [
      "-4.244800759086313e-15 34.58569088583236\n"
     ]
    }
   ],
   "source": [
    "get_residuals = lambda yh,y : (yh-y) # lambda expressions are a way of defining simple functions\n",
    "# diy_residuals = get_residuals(diy_y_hats, y_train)\n",
    "\n",
    "diy_y_hats = numpy.array(diy_y_hats).ravel()\n",
    "print(diy_y_hats.shape)\n",
    "diy_residuals = get_residuals(diy_y_hats, y_train)\n",
    "sk_residuals = get_residuals(y_hats, y_train)\n",
    "\n",
    "for title,residuals in [(\"DIY\", diy_residuals), (\"SK OLSR\",sk_residuals)]:\n",
    "    plt.hist(residuals)\n",
    "    plt.title(title)\n",
    "    plt.show()\n",
    "    \n",
    "    plt.scatter(X_train, residuals)\n",
    "    plt.axhline(0)\n",
    "    plt.title(title)\n",
    "    plt.show()\n",
    "    print(np.mean(residuals), np.std(residuals))    "
   ]
  },
  {
   "cell_type": "code",
   "execution_count": 82,
   "metadata": {},
   "outputs": [],
   "source": [
    "#define F-test function\n",
    "import scipy\n",
    "\n",
    "def f_test(residuals_1, residuals_2, nparams_1=2, nparams_2=2, alpha=0.05):\n",
    "    SSR1 = numpy.sum(residuals_1**2)\n",
    "    SSR2 = numpy.sum(residuals_2**2)\n",
    "    print(SSR1, SSR2)\n",
    "    f = (SSR1/SSR2) #if SSR1<SSR2 else (SSR2/SSR1) # ... so, f is smaller when SSR1 is better\n",
    "#     invert = True if SSR1>SSR2 else False\n",
    "#     print(\"invert=\",invert)\n",
    "\n",
    "    print(f)\n",
    "    dfn = len(residuals_1)-nparams_1 #define degrees of freedom numerator \n",
    "    dfd = len(residuals_2)-nparams_2 #define degrees of freedom denominator \n",
    "    print(\"dfs:\", dfn, dfd)\n",
    "        \n",
    "    p = scipy.stats.f.cdf(f, dfn, dfd) #find p-value of F test statistic \n",
    "    # p is smaller when f is smaller\n",
    "    print(p)\n",
    "    \n",
    "    exes = numpy.linspace(0,2,30)\n",
    "    peas = [scipy.stats.f.cdf(x, dfn, dfd) for x in exes]\n",
    "    plt.plot(exes,peas)\n",
    "    plt.axhline(y = 0.05, linestyle=\"--\", color=\"grey\")\n",
    "#     plt.annotate(\"wang\",(f,scipy.stats.f.cdf(f, dfn, dfd)), (f,0), arrowprops={\"arrowstyle\":'->'})\n",
    "    plt.axvline(x=f)\n",
    "#     plt.axhline(y = 0.95, linestyle=\"--\", color=\"grey\")\n",
    "    plt.show()\n",
    "\n",
    "    if p < alpha: # if the probability of the null hypothesis is < the critical value\n",
    "        print(\"Model 1 is better\")\n",
    "#     elif (1-p)<(1-alpha):\n",
    "#         print(\"Model 2 is better\")\n",
    "    else:\n",
    "        print(\"F-test is inconclusive (cannot reject H0)\")\n",
    "    return f, p"
   ]
  },
  {
   "cell_type": "code",
   "execution_count": 79,
   "metadata": {},
   "outputs": [
    {
     "name": "stdout",
     "output_type": "stream",
     "text": [
      "92105.09108187677 260815106.2806777\n",
      "0.0003531432377339269\n",
      "dfs: 75 23\n",
      "7.336511609805333e-101\n"
     ]
    },
    {
     "data": {
      "image/png": "[encoded data removed]",
      "text/plain": [
       "<matplotlib.figure.Figure at 0x7f1e63b27240>"
      ]
     },
     "metadata": {},
     "output_type": "display_data"
    },
    {
     "name": "stdout",
     "output_type": "stream",
     "text": [
      "Model 1 is better\n",
      "0.0003531432377339269 7.336511609805333e-101\n",
      "...\n",
      "248546.02013520288 92105.09108187677\n",
      "2.6985046886741366\n",
      "dfs: 75 75\n",
      "0.9999867185023269\n"
     ]
    },
    {
     "data": {
      "image/png": "[encoded data removed]",
      "text/plain": [
       "<matplotlib.figure.Figure at 0x7f1e62ed79e8>"
      ]
     },
     "metadata": {},
     "output_type": "display_data"
    },
    {
     "name": "stdout",
     "output_type": "stream",
     "text": [
      "F-test is inconclusive (cannot reject H0)\n",
      "2.6985046886741366 0.9999867185023269\n"
     ]
    }
   ],
   "source": [
    "flat_residuals = numpy.array([(yh - numpy.mean(y_test))**2 for yh in y_hats_test])\n",
    "f,p = f_test(sk_residuals, flat_residuals)\n",
    "print(f,p)\n",
    "\n",
    "print(\"...\")\n",
    "f,p = f_test(diy_residuals, sk_residuals)\n",
    "print(f,p)"
   ]
  },
  {
   "cell_type": "markdown",
   "metadata": {},
   "source": [
    "## Non-linear regression\n",
    "This section has been superceded by a dedicated notebook."
   ]
  },
  {
   "cell_type": "code",
   "execution_count": 81,
   "metadata": {},
   "outputs": [],
   "source": [
    "# #create a non-linear function to \"curve\" our X data\n",
    "# deg = 3\n",
    "# div = 100\n",
    "# bend = lambda x: (x/div)**deg #/ (div**deg)\n",
    "# print(X.shape, y.shape)\n",
    "\n",
    "# new_y_train = bend(y_train)\n",
    "# new_y_test = bend(y_test)\n",
    "# plt.scatter(X_train, new_y_train)\n",
    "# plt.scatter(X_test, new_y_test)\n",
    "# plt.show()\n",
    "\n",
    "# from sklearn.preprocessing import PolynomialFeatures\n",
    "# xs = np.linspace(X_train.min()-1, X_train.max()+1,30).reshape(-1,1)\n",
    "\n",
    "\n",
    "# plt.scatter(X_train, new_y_train)\n",
    "# plt.scatter(X_test, new_y_test)\n",
    "# for deg in [1,2,3,5,10]:\n",
    "#     poly_feats=PolynomialFeatures(degree=deg)\n",
    "#     X_poly  = poly_feats.fit_transform(X_train)\n",
    "#     xs_poly = poly_feats.transform(xs)\n",
    "    \n",
    "#     print(X_poly.shape)\n",
    "#     print(xs_poly.shape)\n",
    "\n",
    "#     lin_reg2=LinearRegression()\n",
    "#     lin_reg2.fit(X_poly, new_y_train)\n",
    "# #     new_y_hats = lin_reg2.predict(X_poly)\n",
    "#     new_y_hats = lin_reg2.predict(xs_poly)\n",
    "#     print(new_y_hats.shape)\n",
    "#     plt.ylim(min(new_y_train)-1, max(new_y_train)+1)\n",
    "#     plt.plot(xs, new_y_hats)\n",
    "#     plt.title(\"Polynomial Reg, Degree={}\".format(deg))\n",
    "#     plt.legend()\n",
    "#     plt.show()"
   ]
  },
  {
   "cell_type": "markdown",
   "metadata": {},
   "source": [
    "## Summary\n",
    "- We loaded the Iris dataset and manually split it into training and test sets\n",
    "- We implemented linear regression using our own routine and using the sklearn library.\n",
    "- We checked the RMSE and R2 scores on both our training and test datasets"
   ]
  },
  {
   "cell_type": "code",
   "execution_count": null,
   "metadata": {},
   "outputs": [],
   "source": []
  }
 ],
 "metadata": {
  "kernelspec": {
   "display_name": "Python 3",
   "language": "python",
   "name": "python3"
  },
  "language_info": {
   "codemirror_mode": {
    "name": "ipython",
    "version": 3
   },
   "file_extension": ".py",
   "mimetype": "text/x-python",
   "name": "python",
   "nbconvert_exporter": "python",
   "pygments_lexer": "ipython3",
   "version": "3.6.9"
  }
 },
 "nbformat": 4,
 "nbformat_minor": 2
}
