{
 "cells": [
  {
   "cell_type": "markdown",
   "metadata": {},
   "source": [
    "# M/L Commando Course, Cambridge 2018\n",
    "## Neural Networks\n",
    "\n",
    "We revisit our well-known Titanic data again, this time using Keras with Tensorflow to build Neural Network classifiers, for survival prediction (binary classification) and to estimate the class of a passenger (multiclass classification)."
   ]
  },
  {
   "cell_type": "code",
   "execution_count": 25,
   "metadata": {},
   "outputs": [
    {
     "name": "stdout",
     "output_type": "stream",
     "text": [
      "scikit-learn version: 0.20.3\n"
     ]
    }
   ],
   "source": [
    "from math import exp\n",
    "from random import random, shuffle, choice, randint\n",
    "import pandas as pd\n",
    "import numpy as np\n",
    "import sklearn\n",
    "\n",
    "from keras import Input\n",
    "from numpy import array, mean\n",
    "from pandas import concat\n",
    "from pandas import DataFrame\n",
    "from keras.models import Sequential\n",
    "from keras.layers import Dense,Reshape\n",
    "\n",
    "import matplotlib.pyplot as plt\n",
    "\n",
    "print ('scikit-learn version:', sklearn.__version__)"
   ]
  },
  {
   "cell_type": "code",
   "execution_count": 2,
   "metadata": {},
   "outputs": [
    {
     "name": "stdout",
     "output_type": "stream",
     "text": [
      "    row.names pclass  survived                          name  age  \\\n",
      "12         13    1st         1  Aubert, Mrs Leontine Pauline  NaN   \n",
      "13         14    1st         1     Barkworth, Mr Algernon H.  NaN   \n",
      "\n",
      "       embarked      home.dest  room        ticket boat     sex  \n",
      "12    Cherbourg  Paris, France  B-35  17477 L69 6s    9  female  \n",
      "13  Southampton  Hessle, Yorks  A-23           NaN    B    male  \n",
      "(60000, 28, 28)\n",
      "(60000,)\n",
      "<class 'numpy.ndarray'>\n"
     ]
    },
    {
     "data": {
      "image/png": "[encoded data removed]",
      "text/plain": [
       "<Figure size 432x288 with 9 Axes>"
      ]
     },
     "metadata": {
      "needs_background": "light"
     },
     "output_type": "display_data"
    }
   ],
   "source": [
    "titanic_raw = pd.read_csv('data/titanic.csv')\n",
    "print (titanic_raw[12:14])\n",
    "\n",
    "from keras.datasets import mnist\n",
    "((tX, ty), (vX, vy)) = mnist.load_data()\n",
    "print(tX.shape)\n",
    "print(ty.shape)\n",
    "print(type(ty))\n",
    "for i in range(9):\n",
    "    plt.subplot(330+1+i)\n",
    "    plt.imshow(tX[i])\n",
    "plt.show()"
   ]
  },
  {
   "cell_type": "code",
   "execution_count": 3,
   "metadata": {},
   "outputs": [],
   "source": [
    "# from sklearn import feature_extraction\n",
    "# from sklearn.model_selection import train_test_split\n",
    "\n",
    "# def one_hot_dataframe(data, cols, replace=False):\n",
    "#     dic_vecr = feature_extraction.DictVectorizer()\n",
    "#     stuff_to_transform = data[cols]\n",
    "#     dty_list = stuff_to_transform.to_dict(orient='records') #rjm49 - this call makes a dict for each record in the table, returns them all as a list\n",
    "#     txd = dic_vecr.fit_transform(dty_list) #converts string types to 1-hot-encoded classes as a NumPy \"sparse array\"\n",
    "#     vecData = pd.DataFrame( txd.toarray())\n",
    "#     vecData.columns = dic_vecr.get_feature_names()\n",
    "#     vecData.index = data.index\n",
    "#     if replace is True: #replace the columns in data with those from our VecData object\n",
    "#         data = data.drop(cols, axis=1)\n",
    "#         data = data.join(vecData)\n",
    "#     return (data, vecData)\n",
    "\n",
    "# titanic, _ = one_hot_dataframe(titanic_raw, ['pclass', 'embarked', 'sex'], replace=True)\n",
    "# titanic_target = titanic['survived']\n",
    "\n",
    "# mean_age = titanic['age'].mean()\n",
    "# titanic['age'].fillna(mean_age, inplace=True)\n",
    "\n",
    "# titanic.fillna(0, inplace=True)\n",
    "\n",
    "# titanic_data = titanic.drop(['name', 'row.names', 'survived', 'embarked', 'home.dest','ticket','boat','room'], axis=1) #can use inplace=True to alter original\n",
    "\n",
    "# print(titanic_data.head())\n",
    "# X_train, X_test, y_train, y_test = train_test_split(titanic_data, titanic_target, test_size=0.25, random_state=42)\n"
   ]
  },
  {
   "cell_type": "code",
   "execution_count": 5,
   "metadata": {},
   "outputs": [
    {
     "name": "stdout",
     "output_type": "stream",
     "text": [
      "(60000, 784)\n",
      "(60000,)\n"
     ]
    }
   ],
   "source": [
    "from keras.models import Sequential\n",
    "from keras.layers import Dense, Activation\n",
    "from keras.optimizers import Adam\n",
    "from keras.utils import to_categorical\n",
    "from sklearn.preprocessing import OneHotEncoder\n",
    "\n",
    "\n",
    "tX = tX.reshape((len(tX), 28*28))\n",
    "print(tX.shape)\n",
    "vX = vX.reshape((len(vX), 28*28))\n",
    "\n",
    "# ohe = OneHotEncoder()\n",
    "# ty = to_categorical(ty)\n",
    "# vy = to_categorical(vy)\n",
    "# ty = ohe.fit_transform(ty.toarray().reshape(-1,1))\n",
    "# vy = ohe.transform(ty.toarray().reshape(-1,1))\n",
    "\n",
    "print(ty.shape)"
   ]
  },
  {
   "cell_type": "code",
   "execution_count": null,
   "metadata": {},
   "outputs": [],
   "source": [
    "model = Sequential([\n",
    "    Dense(10, input_shape=(28*28,)),\n",
    "    Activation('relu'),\n",
    "    Dense(20),\n",
    "    Activation('relu'),\n",
    "    Dense(10),\n",
    "    Activation('relu'),\n",
    "    Dense(1),\n",
    "    Activation('sigmoid', name=\"output_sigmoid\"),\n",
    "])\n",
    "\n",
    "model.summary()\n",
    "\n",
    "# opt = Adam(lr=0.01)\n",
    "model.compile(loss=\"binary_crossentropy\", optimizer=\"adam\", metrics=[\"acc\", \"mse\"])\n",
    "model.fit(tX, ty, epochs=10) #, epochs=100, batch_size=100)\n",
    "\n",
    "score = model.evaluate(tX, ty)\n",
    "print(\"train score: {}\".format(score))\n",
    "score = model.evaluate(vX, vy)\n",
    "print(\"test score: {}\".format(score))"
   ]
  },
  {
   "cell_type": "code",
   "execution_count": 6,
   "metadata": {},
   "outputs": [],
   "source": [
    "ty = ty.reshape(-1,1).ravel()"
   ]
  },
  {
   "cell_type": "code",
   "execution_count": 15,
   "metadata": {},
   "outputs": [
    {
     "data": {
      "text/plain": [
       "DecisionTreeClassifier(class_weight=None, criterion='gini', max_depth=None,\n",
       "            max_features=None, max_leaf_nodes=None,\n",
       "            min_impurity_decrease=0.0, min_impurity_split=None,\n",
       "            min_samples_leaf=1, min_samples_split=2,\n",
       "            min_weight_fraction_leaf=0.0, presort=False, random_state=None,\n",
       "            splitter='best')"
      ]
     },
     "execution_count": 15,
     "metadata": {},
     "output_type": "execute_result"
    }
   ],
   "source": [
    "from sklearn.tree import DecisionTreeClassifier\n",
    "# from sklearn.linear_model import LogisticRegression\n",
    "# clf = LogisticRegression(solver=\"lbfgs\")\n",
    "clf = DecisionTreeClassifier()\n",
    "clf.fit(tX,ty)"
   ]
  },
  {
   "cell_type": "code",
   "execution_count": 7,
   "metadata": {},
   "outputs": [
    {
     "name": "stderr",
     "output_type": "stream",
     "text": [
      "/home/rjm49/anaconda3/envs/mlc/lib/python3.7/site-packages/sklearn/svm/base.py:931: ConvergenceWarning: Liblinear failed to converge, increase the number of iterations.\n",
      "  \"the number of iterations.\", ConvergenceWarning)\n"
     ]
    },
    {
     "data": {
      "text/plain": [
       "LinearSVC(C=1.0, class_weight=None, dual=True, fit_intercept=True,\n",
       "     intercept_scaling=1, loss='squared_hinge', max_iter=1000,\n",
       "     multi_class='ovr', penalty='l2', random_state=None, tol=0.0001,\n",
       "     verbose=0)"
      ]
     },
     "execution_count": 7,
     "metadata": {},
     "output_type": "execute_result"
    }
   ],
   "source": [
    "from sklearn.svm import LinearSVC, SVC\n",
    "clf = LinearSVC()\n",
    "clf.fit(tX,ty)"
   ]
  },
  {
   "cell_type": "code",
   "execution_count": null,
   "metadata": {},
   "outputs": [],
   "source": [
    "print(vX.shape, vy.shape)\n",
    "clf.score(vX,vy.reshape(-1,1))\n",
    "measure_performance(vX, vy, clf, show_accuracy=True)\n",
    "\n",
    "# from sklearn import tree\n",
    "# tree.plot_tree(clf)\n",
    "\n",
    "import io\n",
    "dot_data = io.StringIO()\n",
    "\n",
    "import sklearn, pydot\n",
    "sklearn.tree.export_graphviz(clf, out_file=dot_data) \n",
    "(graph,) = pydot.graph_from_dot_data(dot_data.getvalue()) \n",
    "from IPython.core.display import Image \n",
    "img = Image(graph.create_png())"
   ]
  },
  {
   "cell_type": "code",
   "execution_count": null,
   "metadata": {},
   "outputs": [],
   "source": [
    "\n",
    "\n"
   ]
  },
  {
   "cell_type": "markdown",
   "metadata": {},
   "source": [
    "## Multiclass classification\n",
    "Next we take a look at a classification problem where the result is always exactly one of N classes.  This is called a multi-class problem.\n",
    "(Do not confuse with a _multi-label_ problem, where we can have any number of labels (or none!) positive for a given datum.)\n",
    "\n",
    "In our case we'll try to use the passenger's age, gender and embarkation point to determine the likely class of their ticket."
   ]
  },
  {
   "cell_type": "code",
   "execution_count": null,
   "metadata": {},
   "outputs": [],
   "source": [
    "model = Sequential([\n",
    "    Dense(5, input_shape=(6,)),\n",
    "    Activation('relu'),\n",
    "    Dense(3),\n",
    "    Activation('softmax'),\n",
    "])\n",
    "\n",
    "titanic_class_target = titanic[[\"pclass=1st\",\"pclass=2nd\",\"pclass=3rd\"]]\n",
    "titanic_classless_data = titanic_data.drop([\"pclass=1st\",\"pclass=2nd\",\"pclass=3rd\"], axis=1)\n",
    "X_train, X_test, y_train, y_test = train_test_split(titanic_classless_data, titanic_class_target, test_size=0.25, random_state=42)\n",
    "\n",
    "print(X_train.head())\n",
    "\n",
    "model.compile(loss=\"categorical_crossentropy\", optimizer=\"adam\", metrics=[\"acc\", \"mean_squared_error\"])\n",
    "history = model.fit(X_train, y_train, epochs=200)\n",
    "\n",
    "plt.plot(history.history['loss'])\n",
    "plt.plot(history.history['acc'])\n",
    "plt.plot(history.history['mean_squared_error'])\n",
    "plt.show()"
   ]
  },
  {
   "cell_type": "code",
   "execution_count": null,
   "metadata": {},
   "outputs": [],
   "source": [
    "score = model.evaluate(X_train, y_train)\n",
    "print(\"train score: {}\".format(score))\n",
    "score = model.evaluate(X_test, y_test)\n",
    "print(\"test score: {}\".format(score))"
   ]
  },
  {
   "cell_type": "code",
   "execution_count": null,
   "metadata": {},
   "outputs": [],
   "source": [
    "y_pred=model.predict(X_test)\n",
    "print(\"Raw softmax (rows should sum to 1):\\n\",y_pred[0:5])\n",
    "y_pred = (y_pred > 0.4)\n",
    "print(\"\\nDecision boundary at 0.4:\\n\",y_pred[0:5])\n",
    "y_args = np.argmax(y_pred, axis=1)\n",
    "print(\"\\nIndices of maxima:\\n\", y_args[0:5])"
   ]
  },
  {
   "cell_type": "code",
   "execution_count": 13,
   "metadata": {},
   "outputs": [],
   "source": [
    "from sklearn import metrics\n",
    "def measure_performance(X,y,clf, show_accuracy=True, show_classification_report=True, show_confusion_matrix=True):\n",
    "    y_pred=clf.predict(X)\n",
    "    \n",
    "    if show_accuracy:\n",
    "        print( \"Accuracy:{0:.3f}\".format(metrics.accuracy_score(y,y_pred)),\"\\n\")\n",
    "\n",
    "    if show_classification_report:\n",
    "        print( \"Classification report\")\n",
    "        print( metrics.classification_report(y,y_pred),\"\\n\")\n",
    "        \n",
    "    if show_confusion_matrix:\n",
    "        print( \"Confusion matrix\")\n",
    "        print( metrics.confusion_matrix(y,y_pred),\"\\n\")"
   ]
  },
  {
   "cell_type": "code",
   "execution_count": null,
   "metadata": {},
   "outputs": [],
   "source": [
    "measure_performance(X_test, y_test, model, show_accuracy=True)"
   ]
  }
 ],
 "metadata": {
  "kernelspec": {
   "display_name": "Python 3",
   "language": "python",
   "name": "python3"
  },
  "language_info": {
   "codemirror_mode": {
    "name": "ipython",
    "version": 3
   },
   "file_extension": ".py",
   "mimetype": "text/x-python",
   "name": "python",
   "nbconvert_exporter": "python",
   "pygments_lexer": "ipython3",
   "version": "3.7.3"
  }
 },
 "nbformat": 4,
 "nbformat_minor": 2
}
