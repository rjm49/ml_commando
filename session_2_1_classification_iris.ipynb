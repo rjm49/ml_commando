{
 "cells": [
  {
   "cell_type": "markdown",
   "metadata": {},
   "source": [
    "# Cambridge ML Commando Course\n",
    "## Session 2.1 - Classification with Logistic Regression"
   ]
  },
  {
   "cell_type": "code",
   "execution_count": null,
   "metadata": {},
   "outputs": [],
   "source": [
    "%pylab inline\n",
    "\n",
    "import numpy as np\n",
    "import scipy as sp\n",
    "import matplotlib.pyplot as plt\n",
    "import sklearn\n",
    "import IPython\n",
    "import platform\n",
    "\n",
    "from sklearn import preprocessing\n",
    "\n",
    "print ('Python version:', platform.python_version())\n",
    "print ('IPython version:', IPython.__version__)\n",
    "print ('numpy version:', np.__version__)\n",
    "print ('scikit-learn version:', sklearn.__version__)\n",
    "print ('matplotlib version:', matplotlib.__version__)"
   ]
  },
  {
   "cell_type": "code",
   "execution_count": null,
   "metadata": {},
   "outputs": [],
   "source": [
    "from sklearn import datasets\n",
    "iris = datasets.load_iris()\n",
    "\n",
    "print(iris.target)\n",
    "print(iris.target_names)\n",
    "\n",
    "print(\"Data shape={}, type={}, labels={}\\n\".format(X_iris.shape, type(X_iris), iris.feature_names))\n",
    "print(\"Target shape={}, type={}, labels={}\".format(y_iris.shape, type(y_iris), y_labels))"
   ]
  },
  {
   "cell_type": "code",
   "execution_count": null,
   "metadata": {},
   "outputs": [],
   "source": [
    "from sklearn.preprocessing import StandardScaler\n",
    "manual_split=True\n",
    "remove_setosa = True\n",
    "\n",
    "if remove_setosa:\n",
    "    indices_no_setosa = (iris.target != 0) #[TRUE for non-setosa else FALSE]\n",
    "    X = iris.data[indices_no_setosa]\n",
    "    y = iris.target[indices_no_setosa]\n",
    "else:\n",
    "    X = iris.data\n",
    "    y = iris.target\n",
    "    \n",
    "if manual_split:\n",
    "    numpy.random.seed(42)\n",
    "    test_split = 0.33\n",
    "    test_n = int(test_split*len(X))\n",
    "    test_indices = numpy.random.randint(0,len(X), size=test_n)\n",
    "    train_indices = list(set(range(len(X))) - set(test_indices))\n",
    "\n",
    "    X_train  = X[:,[2,3]][train_indices]    \n",
    "    y_train = y[train_indices]\n",
    "    X_test = X[:,[2,3]][test_indices] \n",
    "    y_test = y[test_indices]\n",
    "else:\n",
    "    # convenience class to do the above...\n",
    "    from sklearn.model_selection import train_test_split\n",
    "    X_train, X_test, y_train, y_test = train_test_split(X[:,[2,3]], y, test_size=0.33, random_state=666)\n",
    "    \n",
    "print(X_train.shape)\n",
    "X_scaler = StandardScaler()\n",
    "X_train = X_scaler.fit_transform(X_train)\n",
    "X_test = X_scaler.transform(X_test)\n",
    "\n",
    "ax = plt.gca()\n",
    "ax.scatter(X_train[:,0], X_train[:,1], c=y_train, alpha=0.5, cmap=plt.cm.Paired)\n",
    "ax.scatter(X_test[:,0], X_test[:,1], marker=\"s\", s=50, c=y_test, edgecolor=\"k\", cmap=plt.cm.Paired) #it's sneaky to look at your test data!\n",
    "# plt.legend()\n",
    "plt.xlabel('Petal length')\n",
    "plt.ylabel('Petal width')\n",
    "plt.show()"
   ]
  },
  {
   "cell_type": "code",
   "execution_count": null,
   "metadata": {},
   "outputs": [],
   "source": [
    "from sklearn.model_selection import cross_val_score, KFold\n",
    "from scipy.stats import sem\n",
    "\n",
    "def evaluate_cross_validation(estr, X, y, K):\n",
    "    # create a k-fold croos validation iterator of k=5 folds\n",
    "    print(\"underway...\")\n",
    "    k_cv = KFold(n_splits=K, shuffle=True, random_state=0)\n",
    "    # by default the score used is the one returned by score method of the estimator (accuracy)\n",
    "    scores = cross_val_score(estr, X, y, cv=k_cv)\n",
    "    print (scores)\n",
    "    print ((\"Mean score: {0:.3f} (+/-{1:.3f})\").format(\n",
    "        np.mean(scores), sem(scores)))"
   ]
  },
  {
   "cell_type": "code",
   "execution_count": null,
   "metadata": {},
   "outputs": [],
   "source": [
    "from sklearn.linear_model import LogisticRegression\n",
    "reg = LogisticRegression()#multi_class=\"ovr\", solver=\"liblinear\")#(multi_class=\"multinomial\")\n",
    "# from sklearn import svm\n",
    "# reg = svm.SVC(kernel=\"poly\")\n",
    "reg.fit(X_train, y_train)"
   ]
  },
  {
   "cell_type": "code",
   "execution_count": null,
   "metadata": {
    "scrolled": true
   },
   "outputs": [],
   "source": [
    "evaluate_cross_validation(reg, X_train, y_train, 5)\n",
    "y_hats_tr = reg.predict(X_train)\n",
    "y_hats_proba = reg.predict_proba(X_train)\n",
    "print(\"y yh[class probabilities]:\")\n",
    "for y,yh,yhp in zip(y_train, y_hats_tr, y_hats_proba):\n",
    "    print(y, yh, yhp)\n"
   ]
  },
  {
   "cell_type": "code",
   "execution_count": null,
   "metadata": {},
   "outputs": [],
   "source": [
    "# Plot the decision boundary. For that, we will assign a color to each\n",
    "# point in the mesh [x_min, x_max]x[y_min, y_max].\n",
    "x_min, x_max = X_train[:, 0].min() - .5, X_train[:, 0].max() + .5\n",
    "y_min, y_max = X_train[:, 1].min() - .5, X_train[:, 1].max() + .5\n",
    "h = .02  # step size in the mesh\n",
    "xx, yy = np.meshgrid(np.arange(x_min, x_max, h), np.arange(y_min, y_max, h))\n",
    "# Z = reg_allf.predict(np.c_[xx.ravel(), yy.ravel()])\n",
    "Z = reg.predict(np.c_[xx.ravel(), yy.ravel()])\n",
    "\n",
    "# Put the result into a color plot\n",
    "Z = Z.reshape(xx.shape)\n",
    "plt.figure(1, figsize=(6, 6))\n",
    "plt.pcolormesh(xx, yy, Z, cmap=plt.cm.Paired)\n",
    "\n",
    "# Plot the training and test points\n",
    "plt.scatter(X_train[:, 0], X_train[:, 1], c=y_train, marker=\"o\", s=20, edgecolors='k', cmap=plt.cm.Paired)\n",
    "plt.scatter(X_test[:, 0], X_test[:, 1], c=y_test, marker=\"s\", s=50, edgecolors='w', alpha=0.7, cmap=plt.cm.Paired)\n",
    "plt.xlabel('Petal length')\n",
    "plt.ylabel('Petal width')\n",
    "\n",
    "plt.xlim(xx.min(), xx.max())\n",
    "plt.ylim(yy.min(), yy.max())\n",
    "plt.xticks(())\n",
    "plt.yticks(())\n",
    "plt.show()\n",
    "\n",
    "print(\"TRAINING:\")\n",
    "y_hats_tr = reg.predict(X_train)\n",
    "print(\"Acc:\", metrics.accuracy_score(y_train, y_hats_tr))\n",
    "# print(\"p/r/F/supp:\",sklearn.metrics.precision_recall_fscore_support(y_train, y_hats_tr, average='micro'))\n",
    "print (\"Classification Report:\")\n",
    "print (metrics.classification_report(y_train, y_hats_tr))\n",
    "print(\"\\nConfusion Mx (training data):\")\n",
    "print(metrics.confusion_matrix(y_train, y_hats_tr))\n",
    "\n",
    "print(\"\\nTEST\")\n",
    "y_hats = reg.predict(X_test)\n",
    "print(\"Acc:\", metrics.accuracy_score(y_test, y_hats))\n",
    "# print(\"p/r/F/supp:\",sklearn.metrics.precision_recall_fscore_support(y_test, y_hats, average='micro'))\n",
    "print (\"Classification Report:\")\n",
    "print (metrics.classification_report(y_test, y_hats))\n",
    "print(\"\\nConfusion Mx (test data):\")\n",
    "print(metrics.confusion_matrix(y_test, y_hats))\n"
   ]
  },
  {
   "cell_type": "code",
   "execution_count": null,
   "metadata": {},
   "outputs": [],
   "source": [
    "#now re-train with all the available flower features\n",
    "X_train = X[train_indices, :]\n",
    "X_test = X[test_indices, :]\n",
    "print(X_train[0:10])\n",
    "\n",
    "reg_allf = LogisticRegression()\n",
    "reg_allf.fit(X_train, y_train)\n",
    "\n",
    "y_hats = reg_allf.predict(X_test)\n",
    "\n",
    "print(metrics.accuracy_score(y_test, y_hats))\n",
    "print (\"Classification Report:\")\n",
    "print (metrics.classification_report(y_test, y_hats))\n",
    "print(\"\\nConfusion Mx (test data):\")\n",
    "print(metrics.confusion_matrix(y_test, y_hats))\n"
   ]
  },
  {
   "cell_type": "markdown",
   "metadata": {},
   "source": [
    "### Multinomial classification\n",
    "Now reintroduce the setosa class, and try running the same routines again with a non-binary dataset.\n",
    "\n",
    "## Summary\n",
    "- We loaded the Iris dataset and manually split it into training and test sets\n",
    "- We used Logistic Regression to classify the test data\n",
    "- We checked out the decision boundary by plotting the class partitions\n",
    "- We got P/R/F and Confusion Matrices on train and test\n",
    "- We repeated with all 3 classes"
   ]
  }
 ],
 "metadata": {
  "kernelspec": {
   "display_name": "Python 3",
   "language": "python",
   "name": "python3"
  },
  "language_info": {
   "codemirror_mode": {
    "name": "ipython",
    "version": 3
   },
   "file_extension": ".py",
   "mimetype": "text/x-python",
   "name": "python",
   "nbconvert_exporter": "python",
   "pygments_lexer": "ipython3",
   "version": "3.7.3"
  }
 },
 "nbformat": 4,
 "nbformat_minor": 2
}
