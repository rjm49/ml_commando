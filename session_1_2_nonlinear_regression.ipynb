{
 "cells": [
  {
   "cell_type": "markdown",
   "metadata": {},
   "source": [
    "# Session 1.2- Non-linear (Polynomial) Regression"
   ]
  },
  {
   "cell_type": "code",
   "execution_count": null,
   "metadata": {},
   "outputs": [],
   "source": [
    "%pylab inline\n",
    "import numpy as np\n",
    "import scipy as sp\n",
    "import matplotlib.pyplot as plt\n",
    "import sklearn\n",
    "import IPython\n",
    "import platform\n",
    "from sklearn import preprocessing\n",
    "print ('Python version:', platform.python_version())\n",
    "print ('IPython version:', IPython.__version__)\n",
    "print ('numpy version:', np.__version__)\n",
    "print ('scikit-learn version:', sklearn.__version__)\n",
    "print ('matplotlib version:', matplotlib.__version__)"
   ]
  },
  {
   "cell_type": "markdown",
   "metadata": {},
   "source": [
    "## Generate a dataset using our coding skillz\n",
    "First we will create a dataset.  This time we won't rely on sklearn since it does not appear to support basic non-linear regression problems.  It is easy to make our own, we will use a sine wave to make a curvy output."
   ]
  },
  {
   "cell_type": "code",
   "execution_count": null,
   "metadata": {},
   "outputs": [],
   "source": [
    "gen_data = False\n",
    "if gen_data:\n",
    "    # X_pure = np.arange(0,2*math.pi,0.01) # <-- \"array-range\" (start_val, stop_val, increment_value)\n",
    "    # print(len(X_pure))\n",
    "    X_pure = np.linspace(0,2*math.pi, 1000) # <-- just a nicer way to do it: (start_val, stop_val, num_increments)\n",
    "    print(len(X_pure))\n",
    "    true_fun = lambda x : 10*np.sin(x)\n",
    "\n",
    "    np.random.seed(666)\n",
    "    X = np.sort(random.choice(X_pure, size=100, replace=False))\n",
    "\n",
    "    y_pure = np.sin(X_pure)\n",
    "    y = true_fun(X) + np.random.randn(len(X)) # generate points with Gaussian noise\n",
    "    plt.plot(X_pure, true_fun(X_pure), linestyle=\"-.\")\n",
    "else:\n",
    "    #Alternative dataset, hours vs 1000s_of_bacteria, exponential growth y=Ae^(ax)\n",
    "    X_pure = None\n",
    "    data = [(2.5, 10.07),\n",
    "    (2.8, 11.07),\n",
    "    (5.4, 14.59),\n",
    "    (6.5, 20.70),\n",
    "    (9.2, 27.94),\n",
    "    (9.5, 31.50),\n",
    "    (11.0, 38.04),\n",
    "    (13.3, 49.90),\n",
    "    (14.6, 60.72),\n",
    "    (16.4, 75.57)]\n",
    "    X = np.array([tup[0] for tup in data]).reshape(-1,1)\n",
    "    y = np.array([tup[1] for tup in data]).ravel()\n",
    "    \n",
    "features_names = [\"The Feature\"]\n",
    "plt.ylabel(\"y\")\n",
    "plt.xlabel(features_names[0])\n",
    "\n",
    "X = X.reshape(-1,1) # need to convert X from a list to a list of single-feature-lists [[x1],[x2],[x3] ...]\n",
    "print(X.shape, y.shape)\n",
    "plt.scatter(X, y)"
   ]
  },
  {
   "cell_type": "code",
   "execution_count": null,
   "metadata": {},
   "outputs": [],
   "source": []
  },
  {
   "cell_type": "markdown",
   "metadata": {},
   "source": [
    "## Partition the dataset\n",
    "As before, manually partition the dataset"
   ]
  },
  {
   "cell_type": "code",
   "execution_count": 11,
   "metadata": {},
   "outputs": [
    {
     "data": {
      "image/png": "[encoded data removed]",
      "text/plain": [
       "<Figure size 432x288 with 1 Axes>"
      ]
     },
     "metadata": {
      "needs_background": "light"
     },
     "output_type": "display_data"
    }
   ],
   "source": [
    "n = len(X)\n",
    "\n",
    "test_split = 0.25\n",
    "test_n = int(test_split*n)\n",
    "\n",
    "all_indices = list(np.arange(n))\n",
    "numpy.random.seed(666)\n",
    "test_indices = numpy.random.choice(all_indices, size=test_n, replace=False)\n",
    "train_indices = list(set(all_indices) - set(test_indices))\n",
    "\n",
    "X_train  = X[train_indices]\n",
    "y_train = y[train_indices]\n",
    "X_test = X[test_indices]\n",
    "y_test = y[test_indices]\n",
    "\n",
    "# convenience class to do the above...\n",
    "from sklearn.model_selection import train_test_split\n",
    "X_train, X_test, y_train, y_test = train_test_split(X, y, test_size=0.25, random_state=666)\n",
    "\n",
    "if X_pure is not None:\n",
    "    plt.plot(X_pure, true_fun(X_pure), linestyle=\"--\", label=\"True\")\n",
    "plt.scatter(X_train, y_train, label=\"Training set\")\n",
    "plt.scatter(X_test, y_test, label=\"Test set\") #it's sneaky to look at your test data!\n",
    "plt.legend() # gets its labels from the plot and scatter \"label\" params\n",
    "plt.axhline(np.mean(y_train), color=\"grey\")\n",
    "plt.show()"
   ]
  },
  {
   "cell_type": "code",
   "execution_count": null,
   "metadata": {},
   "outputs": [],
   "source": [
    "from sklearn.linear_model import LinearRegression\n",
    "from sklearn.preprocessing import PolynomialFeatures"
   ]
  },
  {
   "cell_type": "markdown",
   "metadata": {},
   "source": [
    "## Create a training wrapper\n",
    "This routine trains an estimator and carries out k-fold cross-validation to get a \"typical\" score for performance.\n",
    "\n",
    "We specify a \"refit\" parameter which is False by default.  The routine checks if the estimator is already fitted and if so, it does not train again.  It can be overridden if training is desired (set the param to True at method invocation).\n",
    "\n",
    "If the number of folds is set too low (i.e. <2) then the routine assumes you don't want cross validation at all, and will just score the estimator on the _X and _y values passed in."
   ]
  },
  {
   "cell_type": "code",
   "execution_count": null,
   "metadata": {},
   "outputs": [],
   "source": [
    "from sklearn.utils.validation import check_is_fitted\n",
    "from sklearn.metrics import mean_squared_error\n",
    "def train_and_evaluate(_reg, _X, _y, n_folds=0, refit=False):\n",
    "    # Estimator objects can be fitted or unfitted.  If the user wants to force a retraining, then we do not need to check the status of the estimator\n",
    "    # PART 1: Check whether we need to refit\n",
    "    if refit==True:\n",
    "        do_train=True\n",
    "    else:\n",
    "        try:\n",
    "            check_is_fitted(_reg)\n",
    "            print(\"Estimator is already fitted: will assume you are using the test set and not train it again!\")\n",
    "            do_train=False\n",
    "        except:\n",
    "            do_train=True\n",
    "\n",
    "    # PART 2: If we must refit, do the training here\n",
    "    if do_train:\n",
    "        _reg.fit(_X, _y)\n",
    "        print ('Score on training set: {:.2f}'.format(_reg.score(_X, _y)))\n",
    "\n",
    "    # PART 3: test for goodness of fit\n",
    "    if n_folds >= 2: # we need at least 2 folds to do cross validation\n",
    "        cv = sklearn.model_selection.KFold(n_splits= n_folds, shuffle=True, random_state=666)\n",
    "        scores = sklearn.model_selection.cross_val_score(_reg, _X, _y, cv=cv, scoring=\"explained_variance\")\n",
    "        av_score = np.mean(scores)\n",
    "        print ('Average score using {}-fold crossvalidation:{:.2f}'.format(n_folds,av_score))\n",
    "    else: #otherwise just do a normal scoring\n",
    "        av_score = sklearn.metrics.explained_variance_score(_reg.predict(_X),_y)\n",
    "        print(\"Plain (non-CV) score on X vs y:{:.2f}\".format(av_score))\n",
    "    return _reg, av_score"
   ]
  },
  {
   "cell_type": "markdown",
   "metadata": {},
   "source": [
    "## Create a new F-test routine\n",
    "Define the F-test function, slighty funkier than before because we need to deal with models of varying complexity (i.e. different numbers of model parameters)\n",
    "\n",
    "This routine in particular is modelled on [this specification](https://sites.duke.edu/bossbackup/files/2013/02/FTestTutorial.pdf)."
   ]
  },
  {
   "cell_type": "code",
   "execution_count": null,
   "metadata": {},
   "outputs": [],
   "source": [
    "import scipy\n",
    "\n",
    "def f_test(residuals_1, residuals_2, nparams_1=2, nparams_2=2, alpha=0.95):\n",
    "    SSR1 = numpy.sum(numpy.power(residuals_1,2))\n",
    "    SSR2 = numpy.sum(numpy.power(residuals_2,2))\n",
    "    print(SSR1, SSR2)\n",
    "    \n",
    "    dfn = len(residuals_1)-nparams_1 #define degrees of freedom numerator \n",
    "    dfd = len(residuals_2)-nparams_2 #define degrees of freedom denominator \n",
    "    print(\"dfs:\", dfn, dfd)\n",
    "\n",
    "    if nparams_1 == nparams_2:\n",
    "        f = (SSR1/SSR2)\n",
    "    else:\n",
    "        if nparams_1 < nparams_2: # model 1 must be simpler for this formula\n",
    "            f = ((SSR1/SSR2)/(dfn-dfd)) / (SSR2/dfd)\n",
    "        else:\n",
    "            raise Exception(\"Model params out of order: simpler model must come first\")\n",
    "    \n",
    "    p = 1-sp.stats.f.cdf(f, dfn, dfd) #find p-value of F test statistic \n",
    "    # p is smaller when f is smaller\n",
    "    print(\"f is\",f)\n",
    "    print(\"p is\",p)\n",
    "    \n",
    "    # slightly different way of processing results if n_params is the same for both models\n",
    "    if nparams_1 != nparams_2:\n",
    "    #     In this case a p-value less than α indicates that the more complex model (denominator of F-statistic)\n",
    "    #     fits the data significantly better than the simpler model.        \n",
    "        if p < alpha: # if the probability of the null hypothesis is < the critical value\n",
    "            print(\"Model 2 is better\")\n",
    "        else:\n",
    "            print(\"F-test is inconclusive (cannot reject H0)\")    \n",
    "    else:\n",
    "    #     If the p-value is large (greater than α) then the first model is statistically better than the second.\n",
    "    #     If the p-value is small (less than 1-α) then the second model is statistically better than the first.\n",
    "        if p > alpha:\n",
    "            print(\"Model 1 is better\")\n",
    "        elif p < (1-alpha):\n",
    "            print(\"Model 2 is better\")\n",
    "        else:\n",
    "            print(\"F-test is inconclusive (cannot reject H0)\")\n",
    "    \n",
    "    return f, p"
   ]
  },
  {
   "cell_type": "markdown",
   "metadata": {},
   "source": [
    "## Non-linear (polynomial) regression\n",
    "This time we will use a transformer object called PolynomialFeatures to bring in more complex non-linear features to the dataset.  The regression model remains linear, it is the features we are turning polynomial.."
   ]
  },
  {
   "cell_type": "code",
   "execution_count": null,
   "metadata": {},
   "outputs": [],
   "source": [
    "from sklearn.metrics import mean_absolute_error, mean_squared_error\n",
    "\n",
    "polyfeats = PolynomialFeatures(degree=2)\n",
    "X_f = polyfeats.fit_transform(X_train)\n",
    "X_f_test = polyfeats.transform(X_test)\n",
    "\n",
    "est2 = LinearRegression() # common or garden OLS linear regression model .. the non-linearities are in the features\n",
    "est2.fit(X_f, y_train)\n",
    "\n",
    "for name, this_est in [(\"Quadratic reg.\", est2), ]:\n",
    "    print(name.upper())\n",
    "    for dataset_name, this_X, this_y in [(\"Training set\", X_f, y_train), (\"Test set\", X_f_test, y_test)]:\n",
    "        print(dataset_name)\n",
    "#         print(\"R2 is\", this_est.score(this_X, this_y))\n",
    "        # Don't use R2! https://statisticsbyjim.com/regression/r-squared-invalid-nonlinear-regression/\n",
    "        this_y_hats = this_est.predict(this_X)\n",
    "#         av_score = sklearn.metrics.explained_variance_score(this_est.predict(this_X), this_y)\n",
    "#         print(\"Explained variance is {}\".format(av_score))\n",
    "        print(\"MAE is\", mean_absolute_error(this_y, this_y_hats))\n",
    "        print(\"MSE is\", mean_squared_error(this_y, this_y_hats))\n",
    "        print(\"RMSE is\", numpy.sqrt(mean_squared_error(this_y, this_y_hats)))\n",
    "        print(\"---\")"
   ]
  },
  {
   "cell_type": "code",
   "execution_count": null,
   "metadata": {},
   "outputs": [],
   "source": [
    "def poly_features_param_search(_est, _X,_y, _X_test, _y_test):\n",
    "    #first plot the real dataset\n",
    "    plt.figure(figsize=(10,10))\n",
    "    plt.scatter(_X, _y)\n",
    "    plt.scatter(_X_test, _y_test)\n",
    "    \n",
    "    # next prep some places to store results\n",
    "    best = (None, None, -math.inf, -math.inf)\n",
    "    y_hat_list = []\n",
    "    \n",
    "    # loop across a bunch of different polynomial degrees for increasingly complex curve fit\n",
    "    for deg in [1,2,3,7]:\n",
    "        for inter_only in [False, ]: #can switch interaction-only features on here if we ever want to (really for multivariate data)\n",
    "            print(\">>>\",deg)\n",
    "            polyfeat = PolynomialFeatures(degree=deg, interaction_only=inter_only)\n",
    "            X_f = polyfeat.fit_transform(_X)\n",
    "            _est, sc_tr = train_and_evaluate(_est, X_f, _y, 5, refit=True) # fit and cross val the estimator\n",
    "\n",
    "            y_hats = _est.predict(X_f)\n",
    "            y_hat_list.append((deg,y_hats)) #keep these for later!\n",
    "\n",
    "            # the next few lines are just to draw the regression line on the graph\n",
    "            xs = np.linspace(X_train.min()-1, X_train.max()+1,30).reshape(-1,1) \n",
    "            xs_poly = polyfeat.transform(xs)\n",
    "            y_hats_for_curve = _est.predict(xs_poly)\n",
    "            plt.ylim(min(_y)-1, max(_y)+1)\n",
    "            plt.plot(xs, y_hats_for_curve, label=str(deg)) # add the regression line for this run\n",
    "            \n",
    "            if sc_tr > best[2]: # if your cross-val'd score is best so far...\n",
    "                print(\"*** NEW BEST\")\n",
    "                X_f_test = polyfeat.transform(_X_test)\n",
    "                _est, sc_tt = train_and_evaluate(_est, X_f_test, _y_test, 0, refit=False) # get test data score\n",
    "                best = (deg, inter_only, sc_tr, sc_tt) # stash it all in a tuple\n",
    "    print(best)\n",
    "    plt.legend()\n",
    "    plt.show()\n",
    "    return best, y_hat_list\n",
    "\n",
    "best, y_hat_list = poly_features_param_search(LinearRegression(), X_train, y_train, X_test, y_test)"
   ]
  },
  {
   "cell_type": "code",
   "execution_count": null,
   "metadata": {
    "scrolled": false
   },
   "outputs": [],
   "source": [
    "get_residuals = lambda yh,y : (yh-y) # lambda expressions are a way of defining simple functions\n",
    "# def get_residuals(yh,y): return (yh-y) # same as above\n",
    "previous_residuals = None\n",
    "prev_deg = None\n",
    "f_test_results = []\n",
    "\n",
    "flat_ys = np.ones_like(y_train) * np.mean(y_train)\n",
    "if y_hat_list[0][0] != 0: # this stops us adding loads of mean-y estimators whenever we rerun this cell :)\n",
    "    y_hat_list.insert(0, (0, get_residuals(flat_ys, y_train)))\n",
    "\n",
    "for deg, y_hats in y_hat_list:\n",
    "    print(\">>>{}\".format(deg))\n",
    "    residuals = get_residuals(y_hats, y_train)\n",
    "#     print(residuals)\n",
    "    plt.scatter(X_train, residuals)\n",
    "    plt.axhline(0)\n",
    "    plt.show()\n",
    "\n",
    "    plt.hist(residuals)\n",
    "    plt.show()\n",
    "    \n",
    "    if previous_residuals is not None:\n",
    "        match_id = \"{} vs {}\".format(deg, prev_deg)\n",
    "        print(match_id)\n",
    "        f,p = f_test(previous_residuals, residuals, prev_deg, deg)\n",
    "        print(p)\n",
    "        f_test_results.append((match_id, p))\n",
    "    previous_residuals = residuals\n",
    "    prev_deg = deg\n",
    "    \n",
    "print(\"---\")\n",
    "for i,p in f_test_results:\n",
    "    print(i,p, \"Prob Different\" if p<0.05 else \"Cannot reject H0\")\n"
   ]
  },
  {
   "cell_type": "markdown",
   "metadata": {},
   "source": [
    "## Summary\n",
    "- We generated a dataset based on a sine wave (or used bacterial growth data), and partitioned train/test sets\n",
    "- We implemented non-linear regression at the feature level using the PolynomialFeatures transformer\n",
    "- We set up a method to train and cross-validate our models\n",
    "- We did a parameter search across various degrees of polynomial to find a better fit\n",
    "- We used the F-test to decide which of our fits were significant improvements compared to degree (n-1)"
   ]
  }
 ],
 "metadata": {
  "kernelspec": {
   "display_name": "Python 3",
   "language": "python",
   "name": "python3"
  },
  "language_info": {
   "codemirror_mode": {
    "name": "ipython",
    "version": 3
   },
   "file_extension": ".py",
   "mimetype": "text/x-python",
   "name": "python",
   "nbconvert_exporter": "python",
   "pygments_lexer": "ipython3",
   "version": "3.7.3"
  }
 },
 "nbformat": 4,
 "nbformat_minor": 2
}
